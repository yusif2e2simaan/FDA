{
 "cells": [
  {
   "cell_type": "markdown",
   "metadata": {},
   "source": [
    "## We will install a package called yfinance \n",
    "# We will use download method to down load price information for a given symbol for"
   ]
  },
  {
   "cell_type": "code",
   "execution_count": null,
   "metadata": {},
   "outputs": [],
   "source": []
  },
  {
   "cell_type": "markdown",
   "metadata": {},
   "source": [
    "## Using the download method for any start date and end date for intervals daily ,weekly, monthly, and intraday with 1-minute , 15-minutes, 30-minutes and one hour intervals"
   ]
  },
  {
   "cell_type": "code",
   "execution_count": null,
   "metadata": {},
   "outputs": [],
   "source": []
  },
  {
   "cell_type": "markdown",
   "metadata": {},
   "source": [
    "## We will use the Ticker method to download price data and discuss its advantages"
   ]
  },
  {
   "cell_type": "code",
   "execution_count": null,
   "metadata": {},
   "outputs": [],
   "source": []
  },
  {
   "cell_type": "markdown",
   "metadata": {},
   "source": [
    "## We will use the info method to get Stock information attributes available in yahoo.finance  We will use other methods to extract analysts recommendations, corporate actions, major_holders and institutional holdings"
   ]
  },
  {
   "cell_type": "markdown",
   "metadata": {},
   "source": []
  },
  {
   "cell_type": "markdown",
   "metadata": {},
   "source": [
    "## we will demonstrate a loop that extracts specific attributes for a list of symbols from yfinance and creates a data frame "
   ]
  },
  {
   "cell_type": "code",
   "execution_count": null,
   "metadata": {},
   "outputs": [],
   "source": []
  },
  {
   "cell_type": "code",
   "execution_count": null,
   "metadata": {},
   "outputs": [],
   "source": []
  },
  {
   "cell_type": "markdown",
   "metadata": {},
   "source": [
    "## Import panda and label it as pd"
   ]
  },
  {
   "cell_type": "code",
   "execution_count": 182,
   "metadata": {},
   "outputs": [],
   "source": [
    "import pandas as pd"
   ]
  },
  {
   "cell_type": "code",
   "execution_count": 183,
   "metadata": {},
   "outputs": [],
   "source": [
    "import os ## this allows submission of terminal commands from jupyter note book"
   ]
  },
  {
   "cell_type": "markdown",
   "metadata": {},
   "source": [
    "## We need to install and import yfinance. Thios is a package developed to extract data from yahoo.finance web site.\n"
   ]
  },
  {
   "cell_type": "code",
   "execution_count": 184,
   "metadata": {},
   "outputs": [
    {
     "data": {
      "text/plain": [
       "'/Users/yusifsimaan/Dropbox/classes/2U/Introduction to Financial data Analytics'"
      ]
     },
     "execution_count": 184,
     "metadata": {},
     "output_type": "execute_result"
    }
   ],
   "source": [
    "os.getcwd()  ## shows the working directory"
   ]
  },
  {
   "cell_type": "markdown",
   "metadata": {},
   "source": [
    "# #Unlike panda, yfinance is not part of the default python.3 packages. It has to be installed. The following command installs the package. ##Such package needs to be installed before being imported."
   ]
  },
  {
   "cell_type": "markdown",
   "metadata": {},
   "source": [
    "## Note that the character ! (shift 1) indicates submitting a system command from jupyter notebook"
   ]
  },
  {
   "cell_type": "code",
   "execution_count": 185,
   "metadata": {},
   "outputs": [
    {
     "name": "stdout",
     "output_type": "stream",
     "text": [
      "Requirement already satisfied: yfinance in /Users/yusifsimaan/opt/miniconda3/envs/yes/lib/python3.8/site-packages (0.1.55)\n",
      "Requirement already satisfied: requests>=2.20 in /Users/yusifsimaan/opt/miniconda3/envs/yes/lib/python3.8/site-packages (from yfinance) (2.24.0)\n",
      "Requirement already satisfied: numpy>=1.15 in /Users/yusifsimaan/opt/miniconda3/envs/yes/lib/python3.8/site-packages (from yfinance) (1.18.5)\n",
      "Requirement already satisfied: pandas>=0.24 in /Users/yusifsimaan/opt/miniconda3/envs/yes/lib/python3.8/site-packages (from yfinance) (1.0.5)\n",
      "Requirement already satisfied: multitasking>=0.0.7 in /Users/yusifsimaan/opt/miniconda3/envs/yes/lib/python3.8/site-packages (from yfinance) (0.0.9)\n",
      "Requirement already satisfied: lxml>=4.5.1 in /Users/yusifsimaan/opt/miniconda3/envs/yes/lib/python3.8/site-packages (from yfinance) (4.5.2)\n",
      "Requirement already satisfied: chardet<4,>=3.0.2 in /Users/yusifsimaan/opt/miniconda3/envs/yes/lib/python3.8/site-packages (from requests>=2.20->yfinance) (3.0.4)\n",
      "Requirement already satisfied: certifi>=2017.4.17 in /Users/yusifsimaan/opt/miniconda3/envs/yes/lib/python3.8/site-packages (from requests>=2.20->yfinance) (2020.6.20)\n",
      "Requirement already satisfied: urllib3!=1.25.0,!=1.25.1,<1.26,>=1.21.1 in /Users/yusifsimaan/opt/miniconda3/envs/yes/lib/python3.8/site-packages (from requests>=2.20->yfinance) (1.25.9)\n",
      "Requirement already satisfied: idna<3,>=2.5 in /Users/yusifsimaan/opt/miniconda3/envs/yes/lib/python3.8/site-packages (from requests>=2.20->yfinance) (2.10)\n",
      "Requirement already satisfied: python-dateutil>=2.6.1 in /Users/yusifsimaan/opt/miniconda3/envs/yes/lib/python3.8/site-packages (from pandas>=0.24->yfinance) (2.8.1)\n",
      "Requirement already satisfied: pytz>=2017.2 in /Users/yusifsimaan/opt/miniconda3/envs/yes/lib/python3.8/site-packages (from pandas>=0.24->yfinance) (2020.1)\n",
      "Requirement already satisfied: six>=1.5 in /Users/yusifsimaan/opt/miniconda3/envs/yes/lib/python3.8/site-packages (from python-dateutil>=2.6.1->pandas>=0.24->yfinance) (1.15.0)\n"
     ]
    }
   ],
   "source": [
    "!pip install yfinance  ## The character  !  indicates tha you a submiting a sysem command from jupyer notebookos.getcwd() "
   ]
  },
  {
   "cell_type": "code",
   "execution_count": 160,
   "metadata": {},
   "outputs": [],
   "source": [
    "import yfinance as yf"
   ]
  },
  {
   "cell_type": "markdown",
   "metadata": {},
   "source": [
    "## we can use yf to download prices for a specific symbol."
   ]
  },
  {
   "cell_type": "code",
   "execution_count": 186,
   "metadata": {},
   "outputs": [
    {
     "name": "stdout",
     "output_type": "stream",
     "text": [
      "[*********************100%***********************]  1 of 1 completed\n"
     ]
    },
    {
     "data": {
      "text/html": [
       "<div>\n",
       "<style scoped>\n",
       "    .dataframe tbody tr th:only-of-type {\n",
       "        vertical-align: middle;\n",
       "    }\n",
       "\n",
       "    .dataframe tbody tr th {\n",
       "        vertical-align: top;\n",
       "    }\n",
       "\n",
       "    .dataframe thead th {\n",
       "        text-align: right;\n",
       "    }\n",
       "</style>\n",
       "<table border=\"1\" class=\"dataframe\">\n",
       "  <thead>\n",
       "    <tr style=\"text-align: right;\">\n",
       "      <th></th>\n",
       "      <th>Open</th>\n",
       "      <th>High</th>\n",
       "      <th>Low</th>\n",
       "      <th>Close</th>\n",
       "      <th>Adj Close</th>\n",
       "      <th>Volume</th>\n",
       "    </tr>\n",
       "    <tr>\n",
       "      <th>Date</th>\n",
       "      <th></th>\n",
       "      <th></th>\n",
       "      <th></th>\n",
       "      <th></th>\n",
       "      <th></th>\n",
       "      <th></th>\n",
       "    </tr>\n",
       "  </thead>\n",
       "  <tbody>\n",
       "    <tr>\n",
       "      <th>1983-06-17</th>\n",
       "      <td>0.000000</td>\n",
       "      <td>0.348958</td>\n",
       "      <td>0.343750</td>\n",
       "      <td>0.343750</td>\n",
       "      <td>0.272016</td>\n",
       "      <td>42936000</td>\n",
       "    </tr>\n",
       "    <tr>\n",
       "      <th>1983-06-20</th>\n",
       "      <td>0.000000</td>\n",
       "      <td>0.307292</td>\n",
       "      <td>0.302083</td>\n",
       "      <td>0.302083</td>\n",
       "      <td>0.239044</td>\n",
       "      <td>7329600</td>\n",
       "    </tr>\n",
       "    <tr>\n",
       "      <th>1983-06-21</th>\n",
       "      <td>0.000000</td>\n",
       "      <td>0.312500</td>\n",
       "      <td>0.302083</td>\n",
       "      <td>0.302083</td>\n",
       "      <td>0.239044</td>\n",
       "      <td>2280000</td>\n",
       "    </tr>\n",
       "    <tr>\n",
       "      <th>1983-06-22</th>\n",
       "      <td>0.000000</td>\n",
       "      <td>0.317708</td>\n",
       "      <td>0.312500</td>\n",
       "      <td>0.312500</td>\n",
       "      <td>0.247288</td>\n",
       "      <td>5937600</td>\n",
       "    </tr>\n",
       "    <tr>\n",
       "      <th>1983-06-23</th>\n",
       "      <td>0.000000</td>\n",
       "      <td>0.317708</td>\n",
       "      <td>0.312500</td>\n",
       "      <td>0.312500</td>\n",
       "      <td>0.247288</td>\n",
       "      <td>1272000</td>\n",
       "    </tr>\n",
       "    <tr>\n",
       "      <th>...</th>\n",
       "      <td>...</td>\n",
       "      <td>...</td>\n",
       "      <td>...</td>\n",
       "      <td>...</td>\n",
       "      <td>...</td>\n",
       "      <td>...</td>\n",
       "    </tr>\n",
       "    <tr>\n",
       "      <th>2021-03-17</th>\n",
       "      <td>240.309998</td>\n",
       "      <td>245.899994</td>\n",
       "      <td>239.220001</td>\n",
       "      <td>244.270004</td>\n",
       "      <td>244.270004</td>\n",
       "      <td>3212900</td>\n",
       "    </tr>\n",
       "    <tr>\n",
       "      <th>2021-03-18</th>\n",
       "      <td>240.500000</td>\n",
       "      <td>247.139999</td>\n",
       "      <td>240.500000</td>\n",
       "      <td>244.419998</td>\n",
       "      <td>244.419998</td>\n",
       "      <td>3063100</td>\n",
       "    </tr>\n",
       "    <tr>\n",
       "      <th>2021-03-19</th>\n",
       "      <td>245.740005</td>\n",
       "      <td>247.399994</td>\n",
       "      <td>241.630005</td>\n",
       "      <td>245.940002</td>\n",
       "      <td>245.940002</td>\n",
       "      <td>12589900</td>\n",
       "    </tr>\n",
       "    <tr>\n",
       "      <th>2021-03-22</th>\n",
       "      <td>242.360001</td>\n",
       "      <td>249.770004</td>\n",
       "      <td>242.360001</td>\n",
       "      <td>249.690002</td>\n",
       "      <td>249.690002</td>\n",
       "      <td>2059200</td>\n",
       "    </tr>\n",
       "    <tr>\n",
       "      <th>2021-03-23</th>\n",
       "      <td>249.990005</td>\n",
       "      <td>250.000000</td>\n",
       "      <td>246.020004</td>\n",
       "      <td>246.389999</td>\n",
       "      <td>246.389999</td>\n",
       "      <td>326624</td>\n",
       "    </tr>\n",
       "  </tbody>\n",
       "</table>\n",
       "<p>9520 rows × 6 columns</p>\n",
       "</div>"
      ],
      "text/plain": [
       "                  Open        High         Low       Close   Adj Close  \\\n",
       "Date                                                                     \n",
       "1983-06-17    0.000000    0.348958    0.343750    0.343750    0.272016   \n",
       "1983-06-20    0.000000    0.307292    0.302083    0.302083    0.239044   \n",
       "1983-06-21    0.000000    0.312500    0.302083    0.302083    0.239044   \n",
       "1983-06-22    0.000000    0.317708    0.312500    0.312500    0.247288   \n",
       "1983-06-23    0.000000    0.317708    0.312500    0.312500    0.247288   \n",
       "...                ...         ...         ...         ...         ...   \n",
       "2021-03-17  240.309998  245.899994  239.220001  244.270004  244.270004   \n",
       "2021-03-18  240.500000  247.139999  240.500000  244.419998  244.419998   \n",
       "2021-03-19  245.740005  247.399994  241.630005  245.940002  245.940002   \n",
       "2021-03-22  242.360001  249.770004  242.360001  249.690002  249.690002   \n",
       "2021-03-23  249.990005  250.000000  246.020004  246.389999  246.389999   \n",
       "\n",
       "              Volume  \n",
       "Date                  \n",
       "1983-06-17  42936000  \n",
       "1983-06-20   7329600  \n",
       "1983-06-21   2280000  \n",
       "1983-06-22   5937600  \n",
       "1983-06-23   1272000  \n",
       "...              ...  \n",
       "2021-03-17   3212900  \n",
       "2021-03-18   3063100  \n",
       "2021-03-19  12589900  \n",
       "2021-03-22   2059200  \n",
       "2021-03-23    326624  \n",
       "\n",
       "[9520 rows x 6 columns]"
      ]
     },
     "execution_count": 186,
     "metadata": {},
     "output_type": "execute_result"
    }
   ],
   "source": [
    "yf.download('amgn')"
   ]
  },
  {
   "cell_type": "markdown",
   "metadata": {},
   "source": [
    "## By default yf.download,ownldsdaly price data frome the earliest day the symbol is listed. We can store the output in amgn_prices"
   ]
  },
  {
   "cell_type": "code",
   "execution_count": 187,
   "metadata": {},
   "outputs": [
    {
     "name": "stdout",
     "output_type": "stream",
     "text": [
      "[*********************100%***********************]  1 of 1 completed\n"
     ]
    },
    {
     "data": {
      "text/html": [
       "<div>\n",
       "<style scoped>\n",
       "    .dataframe tbody tr th:only-of-type {\n",
       "        vertical-align: middle;\n",
       "    }\n",
       "\n",
       "    .dataframe tbody tr th {\n",
       "        vertical-align: top;\n",
       "    }\n",
       "\n",
       "    .dataframe thead th {\n",
       "        text-align: right;\n",
       "    }\n",
       "</style>\n",
       "<table border=\"1\" class=\"dataframe\">\n",
       "  <thead>\n",
       "    <tr style=\"text-align: right;\">\n",
       "      <th></th>\n",
       "      <th>Open</th>\n",
       "      <th>High</th>\n",
       "      <th>Low</th>\n",
       "      <th>Close</th>\n",
       "      <th>Adj Close</th>\n",
       "      <th>Volume</th>\n",
       "    </tr>\n",
       "    <tr>\n",
       "      <th>Date</th>\n",
       "      <th></th>\n",
       "      <th></th>\n",
       "      <th></th>\n",
       "      <th></th>\n",
       "      <th></th>\n",
       "      <th></th>\n",
       "    </tr>\n",
       "  </thead>\n",
       "  <tbody>\n",
       "    <tr>\n",
       "      <th>1983-06-17</th>\n",
       "      <td>0.000000</td>\n",
       "      <td>0.348958</td>\n",
       "      <td>0.343750</td>\n",
       "      <td>0.343750</td>\n",
       "      <td>0.272016</td>\n",
       "      <td>42936000</td>\n",
       "    </tr>\n",
       "    <tr>\n",
       "      <th>1983-06-20</th>\n",
       "      <td>0.000000</td>\n",
       "      <td>0.307292</td>\n",
       "      <td>0.302083</td>\n",
       "      <td>0.302083</td>\n",
       "      <td>0.239044</td>\n",
       "      <td>7329600</td>\n",
       "    </tr>\n",
       "    <tr>\n",
       "      <th>1983-06-21</th>\n",
       "      <td>0.000000</td>\n",
       "      <td>0.312500</td>\n",
       "      <td>0.302083</td>\n",
       "      <td>0.302083</td>\n",
       "      <td>0.239044</td>\n",
       "      <td>2280000</td>\n",
       "    </tr>\n",
       "    <tr>\n",
       "      <th>1983-06-22</th>\n",
       "      <td>0.000000</td>\n",
       "      <td>0.317708</td>\n",
       "      <td>0.312500</td>\n",
       "      <td>0.312500</td>\n",
       "      <td>0.247288</td>\n",
       "      <td>5937600</td>\n",
       "    </tr>\n",
       "    <tr>\n",
       "      <th>1983-06-23</th>\n",
       "      <td>0.000000</td>\n",
       "      <td>0.317708</td>\n",
       "      <td>0.312500</td>\n",
       "      <td>0.312500</td>\n",
       "      <td>0.247288</td>\n",
       "      <td>1272000</td>\n",
       "    </tr>\n",
       "    <tr>\n",
       "      <th>...</th>\n",
       "      <td>...</td>\n",
       "      <td>...</td>\n",
       "      <td>...</td>\n",
       "      <td>...</td>\n",
       "      <td>...</td>\n",
       "      <td>...</td>\n",
       "    </tr>\n",
       "    <tr>\n",
       "      <th>2021-03-17</th>\n",
       "      <td>240.309998</td>\n",
       "      <td>245.899994</td>\n",
       "      <td>239.220001</td>\n",
       "      <td>244.270004</td>\n",
       "      <td>244.270004</td>\n",
       "      <td>3212900</td>\n",
       "    </tr>\n",
       "    <tr>\n",
       "      <th>2021-03-18</th>\n",
       "      <td>240.500000</td>\n",
       "      <td>247.139999</td>\n",
       "      <td>240.500000</td>\n",
       "      <td>244.419998</td>\n",
       "      <td>244.419998</td>\n",
       "      <td>3063100</td>\n",
       "    </tr>\n",
       "    <tr>\n",
       "      <th>2021-03-19</th>\n",
       "      <td>245.740005</td>\n",
       "      <td>247.399994</td>\n",
       "      <td>241.630005</td>\n",
       "      <td>245.940002</td>\n",
       "      <td>245.940002</td>\n",
       "      <td>12589900</td>\n",
       "    </tr>\n",
       "    <tr>\n",
       "      <th>2021-03-22</th>\n",
       "      <td>242.360001</td>\n",
       "      <td>249.770004</td>\n",
       "      <td>242.360001</td>\n",
       "      <td>249.690002</td>\n",
       "      <td>249.690002</td>\n",
       "      <td>2059200</td>\n",
       "    </tr>\n",
       "    <tr>\n",
       "      <th>2021-03-23</th>\n",
       "      <td>249.990005</td>\n",
       "      <td>250.000000</td>\n",
       "      <td>246.020004</td>\n",
       "      <td>246.460007</td>\n",
       "      <td>246.460007</td>\n",
       "      <td>330807</td>\n",
       "    </tr>\n",
       "  </tbody>\n",
       "</table>\n",
       "<p>9520 rows × 6 columns</p>\n",
       "</div>"
      ],
      "text/plain": [
       "                  Open        High         Low       Close   Adj Close  \\\n",
       "Date                                                                     \n",
       "1983-06-17    0.000000    0.348958    0.343750    0.343750    0.272016   \n",
       "1983-06-20    0.000000    0.307292    0.302083    0.302083    0.239044   \n",
       "1983-06-21    0.000000    0.312500    0.302083    0.302083    0.239044   \n",
       "1983-06-22    0.000000    0.317708    0.312500    0.312500    0.247288   \n",
       "1983-06-23    0.000000    0.317708    0.312500    0.312500    0.247288   \n",
       "...                ...         ...         ...         ...         ...   \n",
       "2021-03-17  240.309998  245.899994  239.220001  244.270004  244.270004   \n",
       "2021-03-18  240.500000  247.139999  240.500000  244.419998  244.419998   \n",
       "2021-03-19  245.740005  247.399994  241.630005  245.940002  245.940002   \n",
       "2021-03-22  242.360001  249.770004  242.360001  249.690002  249.690002   \n",
       "2021-03-23  249.990005  250.000000  246.020004  246.460007  246.460007   \n",
       "\n",
       "              Volume  \n",
       "Date                  \n",
       "1983-06-17  42936000  \n",
       "1983-06-20   7329600  \n",
       "1983-06-21   2280000  \n",
       "1983-06-22   5937600  \n",
       "1983-06-23   1272000  \n",
       "...              ...  \n",
       "2021-03-17   3212900  \n",
       "2021-03-18   3063100  \n",
       "2021-03-19  12589900  \n",
       "2021-03-22   2059200  \n",
       "2021-03-23    330807  \n",
       "\n",
       "[9520 rows x 6 columns]"
      ]
     },
     "execution_count": 187,
     "metadata": {},
     "output_type": "execute_result"
    }
   ],
   "source": [
    "amgn_prices = yf.download('amgn')\n",
    "amgn_prices"
   ]
  },
  {
   "cell_type": "code",
   "execution_count": 188,
   "metadata": {},
   "outputs": [
    {
     "data": {
      "text/html": [
       "<div>\n",
       "<style scoped>\n",
       "    .dataframe tbody tr th:only-of-type {\n",
       "        vertical-align: middle;\n",
       "    }\n",
       "\n",
       "    .dataframe tbody tr th {\n",
       "        vertical-align: top;\n",
       "    }\n",
       "\n",
       "    .dataframe thead th {\n",
       "        text-align: right;\n",
       "    }\n",
       "</style>\n",
       "<table border=\"1\" class=\"dataframe\">\n",
       "  <thead>\n",
       "    <tr style=\"text-align: right;\">\n",
       "      <th></th>\n",
       "      <th>Open</th>\n",
       "      <th>High</th>\n",
       "      <th>Low</th>\n",
       "      <th>Close</th>\n",
       "      <th>Adj Close</th>\n",
       "      <th>Volume</th>\n",
       "    </tr>\n",
       "    <tr>\n",
       "      <th>Date</th>\n",
       "      <th></th>\n",
       "      <th></th>\n",
       "      <th></th>\n",
       "      <th></th>\n",
       "      <th></th>\n",
       "      <th></th>\n",
       "    </tr>\n",
       "  </thead>\n",
       "  <tbody>\n",
       "    <tr>\n",
       "      <th>1983-06-17</th>\n",
       "      <td>0.0</td>\n",
       "      <td>0.348958</td>\n",
       "      <td>0.343750</td>\n",
       "      <td>0.343750</td>\n",
       "      <td>0.272016</td>\n",
       "      <td>42936000</td>\n",
       "    </tr>\n",
       "    <tr>\n",
       "      <th>1983-06-20</th>\n",
       "      <td>0.0</td>\n",
       "      <td>0.307292</td>\n",
       "      <td>0.302083</td>\n",
       "      <td>0.302083</td>\n",
       "      <td>0.239044</td>\n",
       "      <td>7329600</td>\n",
       "    </tr>\n",
       "    <tr>\n",
       "      <th>1983-06-21</th>\n",
       "      <td>0.0</td>\n",
       "      <td>0.312500</td>\n",
       "      <td>0.302083</td>\n",
       "      <td>0.302083</td>\n",
       "      <td>0.239044</td>\n",
       "      <td>2280000</td>\n",
       "    </tr>\n",
       "    <tr>\n",
       "      <th>1983-06-22</th>\n",
       "      <td>0.0</td>\n",
       "      <td>0.317708</td>\n",
       "      <td>0.312500</td>\n",
       "      <td>0.312500</td>\n",
       "      <td>0.247288</td>\n",
       "      <td>5937600</td>\n",
       "    </tr>\n",
       "    <tr>\n",
       "      <th>1983-06-23</th>\n",
       "      <td>0.0</td>\n",
       "      <td>0.317708</td>\n",
       "      <td>0.312500</td>\n",
       "      <td>0.312500</td>\n",
       "      <td>0.247288</td>\n",
       "      <td>1272000</td>\n",
       "    </tr>\n",
       "  </tbody>\n",
       "</table>\n",
       "</div>"
      ],
      "text/plain": [
       "            Open      High       Low     Close  Adj Close    Volume\n",
       "Date                                                               \n",
       "1983-06-17   0.0  0.348958  0.343750  0.343750   0.272016  42936000\n",
       "1983-06-20   0.0  0.307292  0.302083  0.302083   0.239044   7329600\n",
       "1983-06-21   0.0  0.312500  0.302083  0.302083   0.239044   2280000\n",
       "1983-06-22   0.0  0.317708  0.312500  0.312500   0.247288   5937600\n",
       "1983-06-23   0.0  0.317708  0.312500  0.312500   0.247288   1272000"
      ]
     },
     "execution_count": 188,
     "metadata": {},
     "output_type": "execute_result"
    }
   ],
   "source": [
    "amgn_prices.head()"
   ]
  },
  {
   "cell_type": "code",
   "execution_count": 189,
   "metadata": {},
   "outputs": [
    {
     "data": {
      "text/plain": [
       "pandas.core.frame.DataFrame"
      ]
     },
     "execution_count": 189,
     "metadata": {},
     "output_type": "execute_result"
    }
   ],
   "source": [
    "type(amgn_prices)"
   ]
  },
  {
   "cell_type": "markdown",
   "metadata": {},
   "source": [
    "## Suppose I want to create a variable that stores the first trading day of 'amgn'"
   ]
  },
  {
   "cell_type": "code",
   "execution_count": 190,
   "metadata": {},
   "outputs": [
    {
     "name": "stdout",
     "output_type": "stream",
     "text": [
      "1983-06-17 00:00:00\n"
     ]
    }
   ],
   "source": [
    "first=amgn_prices.index[0]\n",
    "print(first)"
   ]
  },
  {
   "cell_type": "markdown",
   "metadata": {},
   "source": [
    "## Suppose I want to get the first day volume-- Two ways to do it."
   ]
  },
  {
   "cell_type": "code",
   "execution_count": 191,
   "metadata": {},
   "outputs": [
    {
     "data": {
      "text/plain": [
       "42936000"
      ]
     },
     "execution_count": 191,
     "metadata": {},
     "output_type": "execute_result"
    }
   ],
   "source": [
    "amgn_prices.Volume[0]"
   ]
  },
  {
   "cell_type": "code",
   "execution_count": 13,
   "metadata": {},
   "outputs": [
    {
     "data": {
      "text/plain": [
       "42936000"
      ]
     },
     "execution_count": 13,
     "metadata": {},
     "output_type": "execute_result"
    }
   ],
   "source": [
    "amgn_prices['Volume'][0]"
   ]
  },
  {
   "cell_type": "code",
   "execution_count": null,
   "metadata": {},
   "outputs": [],
   "source": []
  },
  {
   "cell_type": "code",
   "execution_count": null,
   "metadata": {},
   "outputs": [],
   "source": []
  },
  {
   "cell_type": "code",
   "execution_count": null,
   "metadata": {},
   "outputs": [],
   "source": []
  },
  {
   "cell_type": "markdown",
   "metadata": {},
   "source": [
    "## Specifyng start and end and interval"
   ]
  },
  {
   "cell_type": "markdown",
   "metadata": {},
   "source": [
    "## we can specify the begining data, the ending date and the price frequency window. Here is an example that specifies start date and end dat. We do not specify interval to determine the price frequency window. \n",
    "\n",
    "## THe auto_adjust=True makes sure that all prices are adjusted for split and div events. Note that the column Adj Close is not in the data because all prices are adjusted here.\n",
    "\n",
    "## the option progress=False makes sure that the output file does not include texts reporting on the progress of the download."
   ]
  },
  {
   "cell_type": "code",
   "execution_count": 192,
   "metadata": {},
   "outputs": [],
   "source": [
    "amgn_2011_2020= yf.download('amgn',  start='2011-01-01', \n",
    "                      end='2020-12-29',auto_adjust=True ,\n",
    "                      progress=False) "
   ]
  },
  {
   "cell_type": "code",
   "execution_count": 18,
   "metadata": {},
   "outputs": [
    {
     "data": {
      "text/html": [
       "<div>\n",
       "<style scoped>\n",
       "    .dataframe tbody tr th:only-of-type {\n",
       "        vertical-align: middle;\n",
       "    }\n",
       "\n",
       "    .dataframe tbody tr th {\n",
       "        vertical-align: top;\n",
       "    }\n",
       "\n",
       "    .dataframe thead th {\n",
       "        text-align: right;\n",
       "    }\n",
       "</style>\n",
       "<table border=\"1\" class=\"dataframe\">\n",
       "  <thead>\n",
       "    <tr style=\"text-align: right;\">\n",
       "      <th></th>\n",
       "      <th>Open</th>\n",
       "      <th>High</th>\n",
       "      <th>Low</th>\n",
       "      <th>Close</th>\n",
       "      <th>Volume</th>\n",
       "    </tr>\n",
       "    <tr>\n",
       "      <th>Date</th>\n",
       "      <th></th>\n",
       "      <th></th>\n",
       "      <th></th>\n",
       "      <th></th>\n",
       "      <th></th>\n",
       "    </tr>\n",
       "  </thead>\n",
       "  <tbody>\n",
       "    <tr>\n",
       "      <th>2011-01-03</th>\n",
       "      <td>43.680868</td>\n",
       "      <td>44.535492</td>\n",
       "      <td>43.665041</td>\n",
       "      <td>43.957829</td>\n",
       "      <td>5453300</td>\n",
       "    </tr>\n",
       "    <tr>\n",
       "      <th>2011-01-04</th>\n",
       "      <td>44.131935</td>\n",
       "      <td>45.295177</td>\n",
       "      <td>44.068628</td>\n",
       "      <td>44.907429</td>\n",
       "      <td>8429500</td>\n",
       "    </tr>\n",
       "    <tr>\n",
       "      <th>2011-01-05</th>\n",
       "      <td>44.677941</td>\n",
       "      <td>45.231866</td>\n",
       "      <td>44.630464</td>\n",
       "      <td>44.891598</td>\n",
       "      <td>4552000</td>\n",
       "    </tr>\n",
       "    <tr>\n",
       "      <th>2011-01-06</th>\n",
       "      <td>44.852033</td>\n",
       "      <td>45.247693</td>\n",
       "      <td>44.369327</td>\n",
       "      <td>44.749161</td>\n",
       "      <td>3561400</td>\n",
       "    </tr>\n",
       "    <tr>\n",
       "      <th>2011-01-07</th>\n",
       "      <td>44.709579</td>\n",
       "      <td>45.255589</td>\n",
       "      <td>44.677926</td>\n",
       "      <td>45.089413</td>\n",
       "      <td>4680800</td>\n",
       "    </tr>\n",
       "  </tbody>\n",
       "</table>\n",
       "</div>"
      ],
      "text/plain": [
       "                 Open       High        Low      Close   Volume\n",
       "Date                                                           \n",
       "2011-01-03  43.680868  44.535492  43.665041  43.957829  5453300\n",
       "2011-01-04  44.131935  45.295177  44.068628  44.907429  8429500\n",
       "2011-01-05  44.677941  45.231866  44.630464  44.891598  4552000\n",
       "2011-01-06  44.852033  45.247693  44.369327  44.749161  3561400\n",
       "2011-01-07  44.709579  45.255589  44.677926  45.089413  4680800"
      ]
     },
     "execution_count": 18,
     "metadata": {},
     "output_type": "execute_result"
    }
   ],
   "source": [
    "amgn_2011_2020.head()"
   ]
  },
  {
   "cell_type": "code",
   "execution_count": 193,
   "metadata": {},
   "outputs": [
    {
     "data": {
      "text/html": [
       "<div>\n",
       "<style scoped>\n",
       "    .dataframe tbody tr th:only-of-type {\n",
       "        vertical-align: middle;\n",
       "    }\n",
       "\n",
       "    .dataframe tbody tr th {\n",
       "        vertical-align: top;\n",
       "    }\n",
       "\n",
       "    .dataframe thead th {\n",
       "        text-align: right;\n",
       "    }\n",
       "</style>\n",
       "<table border=\"1\" class=\"dataframe\">\n",
       "  <thead>\n",
       "    <tr style=\"text-align: right;\">\n",
       "      <th></th>\n",
       "      <th>Open</th>\n",
       "      <th>High</th>\n",
       "      <th>Low</th>\n",
       "      <th>Close</th>\n",
       "      <th>Volume</th>\n",
       "    </tr>\n",
       "    <tr>\n",
       "      <th>Date</th>\n",
       "      <th></th>\n",
       "      <th></th>\n",
       "      <th></th>\n",
       "      <th></th>\n",
       "      <th></th>\n",
       "    </tr>\n",
       "  </thead>\n",
       "  <tbody>\n",
       "    <tr>\n",
       "      <th>2020-12-21</th>\n",
       "      <td>224.014319</td>\n",
       "      <td>226.257649</td>\n",
       "      <td>219.944589</td>\n",
       "      <td>225.632294</td>\n",
       "      <td>2311400</td>\n",
       "    </tr>\n",
       "    <tr>\n",
       "      <th>2020-12-22</th>\n",
       "      <td>224.054033</td>\n",
       "      <td>224.808418</td>\n",
       "      <td>218.455661</td>\n",
       "      <td>219.358948</td>\n",
       "      <td>3571600</td>\n",
       "    </tr>\n",
       "    <tr>\n",
       "      <th>2020-12-23</th>\n",
       "      <td>219.845325</td>\n",
       "      <td>221.929831</td>\n",
       "      <td>219.031385</td>\n",
       "      <td>221.294556</td>\n",
       "      <td>1763500</td>\n",
       "    </tr>\n",
       "    <tr>\n",
       "      <th>2020-12-24</th>\n",
       "      <td>221.592347</td>\n",
       "      <td>222.922453</td>\n",
       "      <td>220.649346</td>\n",
       "      <td>221.284622</td>\n",
       "      <td>955400</td>\n",
       "    </tr>\n",
       "    <tr>\n",
       "      <th>2020-12-28</th>\n",
       "      <td>221.383894</td>\n",
       "      <td>225.225326</td>\n",
       "      <td>221.383894</td>\n",
       "      <td>221.999313</td>\n",
       "      <td>1495100</td>\n",
       "    </tr>\n",
       "  </tbody>\n",
       "</table>\n",
       "</div>"
      ],
      "text/plain": [
       "                  Open        High         Low       Close   Volume\n",
       "Date                                                               \n",
       "2020-12-21  224.014319  226.257649  219.944589  225.632294  2311400\n",
       "2020-12-22  224.054033  224.808418  218.455661  219.358948  3571600\n",
       "2020-12-23  219.845325  221.929831  219.031385  221.294556  1763500\n",
       "2020-12-24  221.592347  222.922453  220.649346  221.284622   955400\n",
       "2020-12-28  221.383894  225.225326  221.383894  221.999313  1495100"
      ]
     },
     "execution_count": 193,
     "metadata": {},
     "output_type": "execute_result"
    }
   ],
   "source": [
    "amgn_2011_2020.tail()"
   ]
  },
  {
   "cell_type": "markdown",
   "metadata": {},
   "source": [
    "## Assume you invested a dollor in amgn in January 3, 2011 and held it to the end of 2020. Your terminal investment is: "
   ]
  },
  {
   "cell_type": "code",
   "execution_count": 194,
   "metadata": {},
   "outputs": [
    {
     "data": {
      "text/plain": [
       "5.050279343183595"
      ]
     },
     "execution_count": 194,
     "metadata": {},
     "output_type": "execute_result"
    }
   ],
   "source": [
    "TV= amgn_2011_2020['Close'][-1]/amgn_2011_2020['Close'][0]\n",
    "TV"
   ]
  },
  {
   "cell_type": "markdown",
   "metadata": {},
   "source": [
    "## That the terminal investment includes reinvested dividends and accounts for any stock splits because we used the auto_adjust=True option"
   ]
  },
  {
   "cell_type": "markdown",
   "metadata": {},
   "source": [
    "## The average annual growth for the 10-years investment is"
   ]
  },
  {
   "cell_type": "code",
   "execution_count": 195,
   "metadata": {},
   "outputs": [
    {
     "data": {
      "text/plain": [
       "0.17579481324948043"
      ]
     },
     "execution_count": 195,
     "metadata": {},
     "output_type": "execute_result"
    }
   ],
   "source": [
    "(TV)**(1/10)-1"
   ]
  },
  {
   "cell_type": "code",
   "execution_count": 196,
   "metadata": {},
   "outputs": [
    {
     "data": {
      "text/plain": [
       "(2514, 5)"
      ]
     },
     "execution_count": 196,
     "metadata": {},
     "output_type": "execute_result"
    }
   ],
   "source": [
    "amgn_2011_2020.shape"
   ]
  },
  {
   "cell_type": "code",
   "execution_count": 170,
   "metadata": {},
   "outputs": [
    {
     "data": {
      "text/plain": [
       "2514"
      ]
     },
     "execution_count": 170,
     "metadata": {},
     "output_type": "execute_result"
    }
   ],
   "source": [
    "len(amgn_2011_2020.Close) ## this gives the total trading days in the decate. Roughly average of 252 trading days/year"
   ]
  },
  {
   "cell_type": "markdown",
   "metadata": {},
   "source": [
    "## Here is an example where we extract monthly prices"
   ]
  },
  {
   "cell_type": "code",
   "execution_count": 197,
   "metadata": {
    "scrolled": true
   },
   "outputs": [],
   "source": [
    "amgn_monthly = yf.download('amgn',  start='2019-01-01', \n",
    "                      end='2020-12-31', autu_adjust=True,\n",
    "                     interval = '1mo' ,\n",
    "                      progress=False) "
   ]
  },
  {
   "cell_type": "code",
   "execution_count": 198,
   "metadata": {
    "scrolled": true
   },
   "outputs": [
    {
     "name": "stdout",
     "output_type": "stream",
     "text": [
      "                  Open        High         Low       Close   Adj Close  \\\n",
      "Date                                                                     \n",
      "2019-01-01  192.520004  204.330002  179.649994  187.110001  175.399460   \n",
      "2019-02-01  186.509995  192.190002  182.669998  190.080002  178.183594   \n",
      "2019-02-14         NaN         NaN         NaN         NaN         NaN   \n",
      "2019-03-01  191.389999  192.869995  179.009995  189.979996  179.466827   \n",
      "2019-04-01  191.139999  196.869995  174.869995  179.320007  169.396759   \n",
      "\n",
      "                Volume  \n",
      "Date                    \n",
      "2019-01-01  73676200.0  \n",
      "2019-02-01  55148000.0  \n",
      "2019-02-14         NaN  \n",
      "2019-03-01  60742700.0  \n",
      "2019-04-01  59196600.0  \n"
     ]
    }
   ],
   "source": [
    "print( amgn_monthly.head() )"
   ]
  },
  {
   "cell_type": "code",
   "execution_count": 27,
   "metadata": {},
   "outputs": [
    {
     "data": {
      "text/plain": [
       "(32, 6)"
      ]
     },
     "execution_count": 27,
     "metadata": {},
     "output_type": "execute_result"
    }
   ],
   "source": [
    "amgn_monthly.shape"
   ]
  },
  {
   "cell_type": "markdown",
   "metadata": {},
   "source": [
    "## Note that days with NaN are dividend days or split days in amgn_monthly"
   ]
  },
  {
   "cell_type": "code",
   "execution_count": 199,
   "metadata": {},
   "outputs": [
    {
     "name": "stdout",
     "output_type": "stream",
     "text": [
      "            Open  High  Low  Close  Adj Close  Volume\n",
      "Date                                                 \n",
      "2019-02-14   NaN   NaN  NaN    NaN        NaN     NaN\n",
      "2019-05-16   NaN   NaN  NaN    NaN        NaN     NaN\n",
      "2019-08-14   NaN   NaN  NaN    NaN        NaN     NaN\n",
      "2019-11-14   NaN   NaN  NaN    NaN        NaN     NaN\n",
      "2020-02-13   NaN   NaN  NaN    NaN        NaN     NaN\n",
      "2020-05-15   NaN   NaN  NaN    NaN        NaN     NaN\n",
      "2020-08-14   NaN   NaN  NaN    NaN        NaN     NaN\n",
      "2020-11-13   NaN   NaN  NaN    NaN        NaN     NaN\n"
     ]
    }
   ],
   "source": [
    "divdays=amgn_monthly[amgn_monthly['Close'].isnull()]\n",
    "print(divdays)"
   ]
  },
  {
   "cell_type": "markdown",
   "metadata": {},
   "source": [
    "## we can specify the interval as one of the following: 1m, 5m, 15m, 30m, 60m, 1h, 1d, 1wk, 1mo, and more. Let us get 1m (one-minute) price data for two days. This data is available for only 7 days back"
   ]
  },
  {
   "cell_type": "code",
   "execution_count": 200,
   "metadata": {
    "scrolled": true
   },
   "outputs": [],
   "source": [
    "symbol= 'amgn'\n",
    "amgn_im =yf.download(symbol,  start='2021-03-12', \n",
    "                      end='2021-03-18', \n",
    "                     interval = '1m' ,auto_adjust=True ,\n",
    "                      progress=False) "
   ]
  },
  {
   "cell_type": "code",
   "execution_count": 201,
   "metadata": {},
   "outputs": [
    {
     "data": {
      "text/html": [
       "<div>\n",
       "<style scoped>\n",
       "    .dataframe tbody tr th:only-of-type {\n",
       "        vertical-align: middle;\n",
       "    }\n",
       "\n",
       "    .dataframe tbody tr th {\n",
       "        vertical-align: top;\n",
       "    }\n",
       "\n",
       "    .dataframe thead th {\n",
       "        text-align: right;\n",
       "    }\n",
       "</style>\n",
       "<table border=\"1\" class=\"dataframe\">\n",
       "  <thead>\n",
       "    <tr style=\"text-align: right;\">\n",
       "      <th></th>\n",
       "      <th>Open</th>\n",
       "      <th>High</th>\n",
       "      <th>Low</th>\n",
       "      <th>Close</th>\n",
       "      <th>Volume</th>\n",
       "    </tr>\n",
       "    <tr>\n",
       "      <th>Datetime</th>\n",
       "      <th></th>\n",
       "      <th></th>\n",
       "      <th></th>\n",
       "      <th></th>\n",
       "      <th></th>\n",
       "    </tr>\n",
       "  </thead>\n",
       "  <tbody>\n",
       "    <tr>\n",
       "      <th>2021-03-12 09:30:00-05:00</th>\n",
       "      <td>230.270004</td>\n",
       "      <td>230.270004</td>\n",
       "      <td>230.130005</td>\n",
       "      <td>230.130005</td>\n",
       "      <td>44964</td>\n",
       "    </tr>\n",
       "    <tr>\n",
       "      <th>2021-03-12 09:31:00-05:00</th>\n",
       "      <td>229.910004</td>\n",
       "      <td>230.240005</td>\n",
       "      <td>229.750000</td>\n",
       "      <td>229.919998</td>\n",
       "      <td>3627</td>\n",
       "    </tr>\n",
       "    <tr>\n",
       "      <th>2021-03-12 09:32:00-05:00</th>\n",
       "      <td>229.970001</td>\n",
       "      <td>230.059998</td>\n",
       "      <td>229.869995</td>\n",
       "      <td>229.919998</td>\n",
       "      <td>3652</td>\n",
       "    </tr>\n",
       "    <tr>\n",
       "      <th>2021-03-12 09:33:00-05:00</th>\n",
       "      <td>229.800003</td>\n",
       "      <td>229.899994</td>\n",
       "      <td>229.692307</td>\n",
       "      <td>229.692307</td>\n",
       "      <td>2794</td>\n",
       "    </tr>\n",
       "    <tr>\n",
       "      <th>2021-03-12 09:34:00-05:00</th>\n",
       "      <td>229.669998</td>\n",
       "      <td>229.699997</td>\n",
       "      <td>229.410004</td>\n",
       "      <td>229.600006</td>\n",
       "      <td>6539</td>\n",
       "    </tr>\n",
       "  </tbody>\n",
       "</table>\n",
       "</div>"
      ],
      "text/plain": [
       "                                 Open        High         Low       Close  \\\n",
       "Datetime                                                                    \n",
       "2021-03-12 09:30:00-05:00  230.270004  230.270004  230.130005  230.130005   \n",
       "2021-03-12 09:31:00-05:00  229.910004  230.240005  229.750000  229.919998   \n",
       "2021-03-12 09:32:00-05:00  229.970001  230.059998  229.869995  229.919998   \n",
       "2021-03-12 09:33:00-05:00  229.800003  229.899994  229.692307  229.692307   \n",
       "2021-03-12 09:34:00-05:00  229.669998  229.699997  229.410004  229.600006   \n",
       "\n",
       "                           Volume  \n",
       "Datetime                           \n",
       "2021-03-12 09:30:00-05:00   44964  \n",
       "2021-03-12 09:31:00-05:00    3627  \n",
       "2021-03-12 09:32:00-05:00    3652  \n",
       "2021-03-12 09:33:00-05:00    2794  \n",
       "2021-03-12 09:34:00-05:00    6539  "
      ]
     },
     "execution_count": 201,
     "metadata": {},
     "output_type": "execute_result"
    }
   ],
   "source": [
    "amgn_im.head()"
   ]
  },
  {
   "cell_type": "code",
   "execution_count": 202,
   "metadata": {},
   "outputs": [
    {
     "data": {
      "text/plain": [
       "(1556, 5)"
      ]
     },
     "execution_count": 202,
     "metadata": {},
     "output_type": "execute_result"
    }
   ],
   "source": [
    "amgn_im.shape"
   ]
  },
  {
   "cell_type": "markdown",
   "metadata": {},
   "source": [
    "## Here we download 15-minutes interval data for 2021-02-22"
   ]
  },
  {
   "cell_type": "code",
   "execution_count": 203,
   "metadata": {},
   "outputs": [],
   "source": [
    "amgn_20210317=yf.download('amgn',  start='2021-03-17', \n",
    "                      end='2021-03-18', \n",
    "                     interval = '15m' , auto_adjust=True ,\n",
    "                      progress=False) "
   ]
  },
  {
   "cell_type": "code",
   "execution_count": 204,
   "metadata": {},
   "outputs": [
    {
     "data": {
      "text/html": [
       "<div>\n",
       "<style scoped>\n",
       "    .dataframe tbody tr th:only-of-type {\n",
       "        vertical-align: middle;\n",
       "    }\n",
       "\n",
       "    .dataframe tbody tr th {\n",
       "        vertical-align: top;\n",
       "    }\n",
       "\n",
       "    .dataframe thead th {\n",
       "        text-align: right;\n",
       "    }\n",
       "</style>\n",
       "<table border=\"1\" class=\"dataframe\">\n",
       "  <thead>\n",
       "    <tr style=\"text-align: right;\">\n",
       "      <th></th>\n",
       "      <th>Open</th>\n",
       "      <th>High</th>\n",
       "      <th>Low</th>\n",
       "      <th>Close</th>\n",
       "      <th>Volume</th>\n",
       "    </tr>\n",
       "    <tr>\n",
       "      <th>Datetime</th>\n",
       "      <th></th>\n",
       "      <th></th>\n",
       "      <th></th>\n",
       "      <th></th>\n",
       "      <th></th>\n",
       "    </tr>\n",
       "  </thead>\n",
       "  <tbody>\n",
       "    <tr>\n",
       "      <th>2021-03-17 09:30:00-04:00</th>\n",
       "      <td>240.309998</td>\n",
       "      <td>240.970001</td>\n",
       "      <td>239.220001</td>\n",
       "      <td>240.054993</td>\n",
       "      <td>164692</td>\n",
       "    </tr>\n",
       "    <tr>\n",
       "      <th>2021-03-17 09:45:00-04:00</th>\n",
       "      <td>239.990005</td>\n",
       "      <td>241.500000</td>\n",
       "      <td>239.800003</td>\n",
       "      <td>240.529999</td>\n",
       "      <td>99932</td>\n",
       "    </tr>\n",
       "    <tr>\n",
       "      <th>2021-03-17 10:00:00-04:00</th>\n",
       "      <td>240.610001</td>\n",
       "      <td>240.785004</td>\n",
       "      <td>239.619400</td>\n",
       "      <td>240.550003</td>\n",
       "      <td>89435</td>\n",
       "    </tr>\n",
       "    <tr>\n",
       "      <th>2021-03-17 10:15:00-04:00</th>\n",
       "      <td>240.509995</td>\n",
       "      <td>241.678604</td>\n",
       "      <td>240.502701</td>\n",
       "      <td>241.604996</td>\n",
       "      <td>97828</td>\n",
       "    </tr>\n",
       "    <tr>\n",
       "      <th>2021-03-17 10:30:00-04:00</th>\n",
       "      <td>241.580002</td>\n",
       "      <td>242.770004</td>\n",
       "      <td>241.509995</td>\n",
       "      <td>242.669800</td>\n",
       "      <td>103731</td>\n",
       "    </tr>\n",
       "    <tr>\n",
       "      <th>2021-03-17 10:45:00-04:00</th>\n",
       "      <td>242.669998</td>\n",
       "      <td>242.750000</td>\n",
       "      <td>241.869995</td>\n",
       "      <td>242.720001</td>\n",
       "      <td>78108</td>\n",
       "    </tr>\n",
       "    <tr>\n",
       "      <th>2021-03-17 11:00:00-04:00</th>\n",
       "      <td>242.705002</td>\n",
       "      <td>242.740005</td>\n",
       "      <td>242.179993</td>\n",
       "      <td>242.570694</td>\n",
       "      <td>64273</td>\n",
       "    </tr>\n",
       "    <tr>\n",
       "      <th>2021-03-17 11:15:00-04:00</th>\n",
       "      <td>242.460007</td>\n",
       "      <td>243.050003</td>\n",
       "      <td>242.434998</td>\n",
       "      <td>242.860001</td>\n",
       "      <td>75305</td>\n",
       "    </tr>\n",
       "    <tr>\n",
       "      <th>2021-03-17 11:30:00-04:00</th>\n",
       "      <td>242.919998</td>\n",
       "      <td>243.639999</td>\n",
       "      <td>242.770004</td>\n",
       "      <td>243.639999</td>\n",
       "      <td>106281</td>\n",
       "    </tr>\n",
       "    <tr>\n",
       "      <th>2021-03-17 11:45:00-04:00</th>\n",
       "      <td>243.570007</td>\n",
       "      <td>244.240005</td>\n",
       "      <td>243.539993</td>\n",
       "      <td>244.229996</td>\n",
       "      <td>78937</td>\n",
       "    </tr>\n",
       "    <tr>\n",
       "      <th>2021-03-17 12:00:00-04:00</th>\n",
       "      <td>244.199997</td>\n",
       "      <td>244.279999</td>\n",
       "      <td>243.660004</td>\n",
       "      <td>244.225006</td>\n",
       "      <td>91012</td>\n",
       "    </tr>\n",
       "    <tr>\n",
       "      <th>2021-03-17 12:15:00-04:00</th>\n",
       "      <td>244.225006</td>\n",
       "      <td>244.559998</td>\n",
       "      <td>243.804993</td>\n",
       "      <td>243.998001</td>\n",
       "      <td>96088</td>\n",
       "    </tr>\n",
       "    <tr>\n",
       "      <th>2021-03-17 12:30:00-04:00</th>\n",
       "      <td>244.044998</td>\n",
       "      <td>244.044998</td>\n",
       "      <td>242.770004</td>\n",
       "      <td>243.080093</td>\n",
       "      <td>54170</td>\n",
       "    </tr>\n",
       "    <tr>\n",
       "      <th>2021-03-17 12:45:00-04:00</th>\n",
       "      <td>243.080002</td>\n",
       "      <td>243.360001</td>\n",
       "      <td>242.770004</td>\n",
       "      <td>243.009995</td>\n",
       "      <td>64124</td>\n",
       "    </tr>\n",
       "    <tr>\n",
       "      <th>2021-03-17 13:00:00-04:00</th>\n",
       "      <td>243.100006</td>\n",
       "      <td>243.360001</td>\n",
       "      <td>242.550003</td>\n",
       "      <td>243.089996</td>\n",
       "      <td>74818</td>\n",
       "    </tr>\n",
       "    <tr>\n",
       "      <th>2021-03-17 13:15:00-04:00</th>\n",
       "      <td>243.139999</td>\n",
       "      <td>243.779999</td>\n",
       "      <td>242.960007</td>\n",
       "      <td>243.520004</td>\n",
       "      <td>73850</td>\n",
       "    </tr>\n",
       "    <tr>\n",
       "      <th>2021-03-17 13:30:00-04:00</th>\n",
       "      <td>243.526199</td>\n",
       "      <td>244.479996</td>\n",
       "      <td>243.440002</td>\n",
       "      <td>244.429993</td>\n",
       "      <td>78762</td>\n",
       "    </tr>\n",
       "    <tr>\n",
       "      <th>2021-03-17 13:45:00-04:00</th>\n",
       "      <td>244.449997</td>\n",
       "      <td>244.500000</td>\n",
       "      <td>243.377106</td>\n",
       "      <td>243.899994</td>\n",
       "      <td>61210</td>\n",
       "    </tr>\n",
       "    <tr>\n",
       "      <th>2021-03-17 14:00:00-04:00</th>\n",
       "      <td>243.960007</td>\n",
       "      <td>245.500000</td>\n",
       "      <td>243.360001</td>\n",
       "      <td>244.500000</td>\n",
       "      <td>124626</td>\n",
       "    </tr>\n",
       "    <tr>\n",
       "      <th>2021-03-17 14:15:00-04:00</th>\n",
       "      <td>244.559998</td>\n",
       "      <td>244.979996</td>\n",
       "      <td>244.429993</td>\n",
       "      <td>244.819901</td>\n",
       "      <td>80055</td>\n",
       "    </tr>\n",
       "    <tr>\n",
       "      <th>2021-03-17 14:30:00-04:00</th>\n",
       "      <td>244.740005</td>\n",
       "      <td>245.419998</td>\n",
       "      <td>244.369995</td>\n",
       "      <td>245.410004</td>\n",
       "      <td>92921</td>\n",
       "    </tr>\n",
       "    <tr>\n",
       "      <th>2021-03-17 14:45:00-04:00</th>\n",
       "      <td>245.419998</td>\n",
       "      <td>245.500000</td>\n",
       "      <td>244.429993</td>\n",
       "      <td>245.240005</td>\n",
       "      <td>135238</td>\n",
       "    </tr>\n",
       "    <tr>\n",
       "      <th>2021-03-17 15:00:00-04:00</th>\n",
       "      <td>245.169998</td>\n",
       "      <td>245.899994</td>\n",
       "      <td>244.750000</td>\n",
       "      <td>244.940002</td>\n",
       "      <td>174737</td>\n",
       "    </tr>\n",
       "    <tr>\n",
       "      <th>2021-03-17 15:15:00-04:00</th>\n",
       "      <td>245.039993</td>\n",
       "      <td>245.279999</td>\n",
       "      <td>244.789993</td>\n",
       "      <td>244.991302</td>\n",
       "      <td>107414</td>\n",
       "    </tr>\n",
       "    <tr>\n",
       "      <th>2021-03-17 15:30:00-04:00</th>\n",
       "      <td>244.960007</td>\n",
       "      <td>245.020004</td>\n",
       "      <td>243.809998</td>\n",
       "      <td>243.869995</td>\n",
       "      <td>158985</td>\n",
       "    </tr>\n",
       "    <tr>\n",
       "      <th>2021-03-17 15:45:00-04:00</th>\n",
       "      <td>243.820007</td>\n",
       "      <td>244.490005</td>\n",
       "      <td>243.800003</td>\n",
       "      <td>244.490005</td>\n",
       "      <td>306802</td>\n",
       "    </tr>\n",
       "  </tbody>\n",
       "</table>\n",
       "</div>"
      ],
      "text/plain": [
       "                                 Open        High         Low       Close  \\\n",
       "Datetime                                                                    \n",
       "2021-03-17 09:30:00-04:00  240.309998  240.970001  239.220001  240.054993   \n",
       "2021-03-17 09:45:00-04:00  239.990005  241.500000  239.800003  240.529999   \n",
       "2021-03-17 10:00:00-04:00  240.610001  240.785004  239.619400  240.550003   \n",
       "2021-03-17 10:15:00-04:00  240.509995  241.678604  240.502701  241.604996   \n",
       "2021-03-17 10:30:00-04:00  241.580002  242.770004  241.509995  242.669800   \n",
       "2021-03-17 10:45:00-04:00  242.669998  242.750000  241.869995  242.720001   \n",
       "2021-03-17 11:00:00-04:00  242.705002  242.740005  242.179993  242.570694   \n",
       "2021-03-17 11:15:00-04:00  242.460007  243.050003  242.434998  242.860001   \n",
       "2021-03-17 11:30:00-04:00  242.919998  243.639999  242.770004  243.639999   \n",
       "2021-03-17 11:45:00-04:00  243.570007  244.240005  243.539993  244.229996   \n",
       "2021-03-17 12:00:00-04:00  244.199997  244.279999  243.660004  244.225006   \n",
       "2021-03-17 12:15:00-04:00  244.225006  244.559998  243.804993  243.998001   \n",
       "2021-03-17 12:30:00-04:00  244.044998  244.044998  242.770004  243.080093   \n",
       "2021-03-17 12:45:00-04:00  243.080002  243.360001  242.770004  243.009995   \n",
       "2021-03-17 13:00:00-04:00  243.100006  243.360001  242.550003  243.089996   \n",
       "2021-03-17 13:15:00-04:00  243.139999  243.779999  242.960007  243.520004   \n",
       "2021-03-17 13:30:00-04:00  243.526199  244.479996  243.440002  244.429993   \n",
       "2021-03-17 13:45:00-04:00  244.449997  244.500000  243.377106  243.899994   \n",
       "2021-03-17 14:00:00-04:00  243.960007  245.500000  243.360001  244.500000   \n",
       "2021-03-17 14:15:00-04:00  244.559998  244.979996  244.429993  244.819901   \n",
       "2021-03-17 14:30:00-04:00  244.740005  245.419998  244.369995  245.410004   \n",
       "2021-03-17 14:45:00-04:00  245.419998  245.500000  244.429993  245.240005   \n",
       "2021-03-17 15:00:00-04:00  245.169998  245.899994  244.750000  244.940002   \n",
       "2021-03-17 15:15:00-04:00  245.039993  245.279999  244.789993  244.991302   \n",
       "2021-03-17 15:30:00-04:00  244.960007  245.020004  243.809998  243.869995   \n",
       "2021-03-17 15:45:00-04:00  243.820007  244.490005  243.800003  244.490005   \n",
       "\n",
       "                           Volume  \n",
       "Datetime                           \n",
       "2021-03-17 09:30:00-04:00  164692  \n",
       "2021-03-17 09:45:00-04:00   99932  \n",
       "2021-03-17 10:00:00-04:00   89435  \n",
       "2021-03-17 10:15:00-04:00   97828  \n",
       "2021-03-17 10:30:00-04:00  103731  \n",
       "2021-03-17 10:45:00-04:00   78108  \n",
       "2021-03-17 11:00:00-04:00   64273  \n",
       "2021-03-17 11:15:00-04:00   75305  \n",
       "2021-03-17 11:30:00-04:00  106281  \n",
       "2021-03-17 11:45:00-04:00   78937  \n",
       "2021-03-17 12:00:00-04:00   91012  \n",
       "2021-03-17 12:15:00-04:00   96088  \n",
       "2021-03-17 12:30:00-04:00   54170  \n",
       "2021-03-17 12:45:00-04:00   64124  \n",
       "2021-03-17 13:00:00-04:00   74818  \n",
       "2021-03-17 13:15:00-04:00   73850  \n",
       "2021-03-17 13:30:00-04:00   78762  \n",
       "2021-03-17 13:45:00-04:00   61210  \n",
       "2021-03-17 14:00:00-04:00  124626  \n",
       "2021-03-17 14:15:00-04:00   80055  \n",
       "2021-03-17 14:30:00-04:00   92921  \n",
       "2021-03-17 14:45:00-04:00  135238  \n",
       "2021-03-17 15:00:00-04:00  174737  \n",
       "2021-03-17 15:15:00-04:00  107414  \n",
       "2021-03-17 15:30:00-04:00  158985  \n",
       "2021-03-17 15:45:00-04:00  306802  "
      ]
     },
     "execution_count": 204,
     "metadata": {},
     "output_type": "execute_result"
    }
   ],
   "source": [
    "amgn_20210317"
   ]
  },
  {
   "cell_type": "markdown",
   "metadata": {},
   "source": [
    "## Let us plot how trading volume changes over the course of the day. Can you explain the shape of the of the Volume curve?"
   ]
  },
  {
   "cell_type": "code",
   "execution_count": 178,
   "metadata": {},
   "outputs": [
    {
     "data": {
      "text/plain": [
       "<matplotlib.axes._subplots.AxesSubplot at 0x7fedd69e97f0>"
      ]
     },
     "execution_count": 178,
     "metadata": {},
     "output_type": "execute_result"
    },
    {
     "data": {
      "image/png": "[encoded data removed]",
      "text/plain": [
       "<Figure size 432x288 with 1 Axes>"
      ]
     },
     "metadata": {
      "needs_background": "light"
     },
     "output_type": "display_data"
    }
   ],
   "source": [
    "amgn_20210317['Volume'].plot(title=\"AMGN Volume in 2021-03-17--15minutes Buckets\")"
   ]
  },
  {
   "cell_type": "markdown",
   "metadata": {},
   "source": [
    "## Let us get data on SPY and generate the same graph."
   ]
  },
  {
   "cell_type": "code",
   "execution_count": 205,
   "metadata": {},
   "outputs": [],
   "source": [
    "spy_20210317= yf.download('spy',  start='2021-03-17', \n",
    "                      end='2021-03-18', \n",
    "                     interval = '15m' , auto_adjust=True ,\n",
    "                      progress=False) "
   ]
  },
  {
   "cell_type": "code",
   "execution_count": 206,
   "metadata": {
    "scrolled": true
   },
   "outputs": [
    {
     "data": {
      "text/html": [
       "<div>\n",
       "<style scoped>\n",
       "    .dataframe tbody tr th:only-of-type {\n",
       "        vertical-align: middle;\n",
       "    }\n",
       "\n",
       "    .dataframe tbody tr th {\n",
       "        vertical-align: top;\n",
       "    }\n",
       "\n",
       "    .dataframe thead th {\n",
       "        text-align: right;\n",
       "    }\n",
       "</style>\n",
       "<table border=\"1\" class=\"dataframe\">\n",
       "  <thead>\n",
       "    <tr style=\"text-align: right;\">\n",
       "      <th></th>\n",
       "      <th>Open</th>\n",
       "      <th>High</th>\n",
       "      <th>Low</th>\n",
       "      <th>Close</th>\n",
       "      <th>Volume</th>\n",
       "    </tr>\n",
       "    <tr>\n",
       "      <th>Datetime</th>\n",
       "      <th></th>\n",
       "      <th></th>\n",
       "      <th></th>\n",
       "      <th></th>\n",
       "      <th></th>\n",
       "    </tr>\n",
       "  </thead>\n",
       "  <tbody>\n",
       "    <tr>\n",
       "      <th>2021-03-17 09:30:00-04:00</th>\n",
       "      <td>394.529999</td>\n",
       "      <td>394.600006</td>\n",
       "      <td>393.799988</td>\n",
       "      <td>394.600006</td>\n",
       "      <td>5596712</td>\n",
       "    </tr>\n",
       "    <tr>\n",
       "      <th>2021-03-17 09:45:00-04:00</th>\n",
       "      <td>394.609985</td>\n",
       "      <td>394.890015</td>\n",
       "      <td>394.290009</td>\n",
       "      <td>394.570007</td>\n",
       "      <td>2699512</td>\n",
       "    </tr>\n",
       "    <tr>\n",
       "      <th>2021-03-17 10:00:00-04:00</th>\n",
       "      <td>394.579987</td>\n",
       "      <td>394.670013</td>\n",
       "      <td>393.850006</td>\n",
       "      <td>394.489990</td>\n",
       "      <td>5043551</td>\n",
       "    </tr>\n",
       "    <tr>\n",
       "      <th>2021-03-17 10:15:00-04:00</th>\n",
       "      <td>394.488708</td>\n",
       "      <td>394.980011</td>\n",
       "      <td>394.309998</td>\n",
       "      <td>394.750000</td>\n",
       "      <td>3199115</td>\n",
       "    </tr>\n",
       "    <tr>\n",
       "      <th>2021-03-17 10:30:00-04:00</th>\n",
       "      <td>394.739990</td>\n",
       "      <td>394.739990</td>\n",
       "      <td>393.570892</td>\n",
       "      <td>393.589996</td>\n",
       "      <td>2513436</td>\n",
       "    </tr>\n",
       "  </tbody>\n",
       "</table>\n",
       "</div>"
      ],
      "text/plain": [
       "                                 Open        High         Low       Close  \\\n",
       "Datetime                                                                    \n",
       "2021-03-17 09:30:00-04:00  394.529999  394.600006  393.799988  394.600006   \n",
       "2021-03-17 09:45:00-04:00  394.609985  394.890015  394.290009  394.570007   \n",
       "2021-03-17 10:00:00-04:00  394.579987  394.670013  393.850006  394.489990   \n",
       "2021-03-17 10:15:00-04:00  394.488708  394.980011  394.309998  394.750000   \n",
       "2021-03-17 10:30:00-04:00  394.739990  394.739990  393.570892  393.589996   \n",
       "\n",
       "                            Volume  \n",
       "Datetime                            \n",
       "2021-03-17 09:30:00-04:00  5596712  \n",
       "2021-03-17 09:45:00-04:00  2699512  \n",
       "2021-03-17 10:00:00-04:00  5043551  \n",
       "2021-03-17 10:15:00-04:00  3199115  \n",
       "2021-03-17 10:30:00-04:00  2513436  "
      ]
     },
     "execution_count": 206,
     "metadata": {},
     "output_type": "execute_result"
    }
   ],
   "source": [
    "spy_20210317.head()"
   ]
  },
  {
   "cell_type": "code",
   "execution_count": 207,
   "metadata": {},
   "outputs": [
    {
     "data": {
      "text/plain": [
       "<matplotlib.axes._subplots.AxesSubplot at 0x7fedd698b130>"
      ]
     },
     "execution_count": 207,
     "metadata": {},
     "output_type": "execute_result"
    },
    {
     "data": {
      "image/png": "[encoded data removed]",
      "text/plain": [
       "<Figure size 432x288 with 1 Axes>"
      ]
     },
     "metadata": {
      "needs_background": "light"
     },
     "output_type": "display_data"
    }
   ],
   "source": [
    "spy_20210317['Volume'].plot(title=\"SPY Volume in 2021-317--15minutes Buckets\")"
   ]
  },
  {
   "cell_type": "markdown",
   "metadata": {},
   "source": [
    "## The above U shape curve is typical indicating strong volume in the morning and at the end of the trading day. Here we have a typical volume spike due to a Fed ptojevtions release. If you are interested se the folliwing link\n",
    "\n",
    "https://www.federalreserve.gov/monetarypolicy/fomcprojtabl20210317.htm"
   ]
  },
  {
   "cell_type": "code",
   "execution_count": null,
   "metadata": {},
   "outputs": [],
   "source": []
  },
  {
   "cell_type": "code",
   "execution_count": null,
   "metadata": {},
   "outputs": [],
   "source": []
  },
  {
   "cell_type": "code",
   "execution_count": null,
   "metadata": {},
   "outputs": [],
   "source": []
  },
  {
   "cell_type": "markdown",
   "metadata": {},
   "source": [
    "##  Using the Ticker method"
   ]
  },
  {
   "cell_type": "markdown",
   "metadata": {},
   "source": [
    "## Aside from the yf.download function, we can use the Ticker() module.  Here are some examples usingb yf.Ticker"
   ]
  },
  {
   "cell_type": "code",
   "execution_count": 208,
   "metadata": {
    "scrolled": true
   },
   "outputs": [],
   "source": [
    "h0= yf.Ticker('amgn').history(  start='2019-12-21', \n",
    "                      end='2020-12-22' ,\n",
    "                      interval='1wk')"
   ]
  },
  {
   "cell_type": "code",
   "execution_count": 209,
   "metadata": {},
   "outputs": [
    {
     "data": {
      "text/html": [
       "<div>\n",
       "<style scoped>\n",
       "    .dataframe tbody tr th:only-of-type {\n",
       "        vertical-align: middle;\n",
       "    }\n",
       "\n",
       "    .dataframe tbody tr th {\n",
       "        vertical-align: top;\n",
       "    }\n",
       "\n",
       "    .dataframe thead th {\n",
       "        text-align: right;\n",
       "    }\n",
       "</style>\n",
       "<table border=\"1\" class=\"dataframe\">\n",
       "  <thead>\n",
       "    <tr style=\"text-align: right;\">\n",
       "      <th></th>\n",
       "      <th>Open</th>\n",
       "      <th>High</th>\n",
       "      <th>Low</th>\n",
       "      <th>Close</th>\n",
       "      <th>Volume</th>\n",
       "      <th>Dividends</th>\n",
       "      <th>Stock Splits</th>\n",
       "    </tr>\n",
       "    <tr>\n",
       "      <th>Date</th>\n",
       "      <th></th>\n",
       "      <th></th>\n",
       "      <th></th>\n",
       "      <th></th>\n",
       "      <th></th>\n",
       "      <th></th>\n",
       "      <th></th>\n",
       "    </tr>\n",
       "  </thead>\n",
       "  <tbody>\n",
       "    <tr>\n",
       "      <th>2019-12-23</th>\n",
       "      <td>235.665331</td>\n",
       "      <td>235.684653</td>\n",
       "      <td>231.975521</td>\n",
       "      <td>233.298828</td>\n",
       "      <td>4482300.0</td>\n",
       "      <td>0.0</td>\n",
       "      <td>0</td>\n",
       "    </tr>\n",
       "    <tr>\n",
       "      <th>2019-12-30</th>\n",
       "      <td>233.173265</td>\n",
       "      <td>234.902272</td>\n",
       "      <td>228.189125</td>\n",
       "      <td>230.343124</td>\n",
       "      <td>7169700.0</td>\n",
       "      <td>0.0</td>\n",
       "      <td>0</td>\n",
       "    </tr>\n",
       "    <tr>\n",
       "      <th>2020-01-06</th>\n",
       "      <td>229.116385</td>\n",
       "      <td>232.719265</td>\n",
       "      <td>228.498197</td>\n",
       "      <td>230.140259</td>\n",
       "      <td>8943000.0</td>\n",
       "      <td>0.0</td>\n",
       "      <td>0</td>\n",
       "    </tr>\n",
       "    <tr>\n",
       "      <th>2020-01-13</th>\n",
       "      <td>230.140273</td>\n",
       "      <td>235.539782</td>\n",
       "      <td>226.788527</td>\n",
       "      <td>233.260208</td>\n",
       "      <td>10832700.0</td>\n",
       "      <td>0.0</td>\n",
       "      <td>0</td>\n",
       "    </tr>\n",
       "    <tr>\n",
       "      <th>2020-01-20</th>\n",
       "      <td>232.757936</td>\n",
       "      <td>233.762487</td>\n",
       "      <td>216.849219</td>\n",
       "      <td>217.902069</td>\n",
       "      <td>12201000.0</td>\n",
       "      <td>0.0</td>\n",
       "      <td>0</td>\n",
       "    </tr>\n",
       "  </tbody>\n",
       "</table>\n",
       "</div>"
      ],
      "text/plain": [
       "                  Open        High         Low       Close      Volume  \\\n",
       "Date                                                                     \n",
       "2019-12-23  235.665331  235.684653  231.975521  233.298828   4482300.0   \n",
       "2019-12-30  233.173265  234.902272  228.189125  230.343124   7169700.0   \n",
       "2020-01-06  229.116385  232.719265  228.498197  230.140259   8943000.0   \n",
       "2020-01-13  230.140273  235.539782  226.788527  233.260208  10832700.0   \n",
       "2020-01-20  232.757936  233.762487  216.849219  217.902069  12201000.0   \n",
       "\n",
       "            Dividends  Stock Splits  \n",
       "Date                                 \n",
       "2019-12-23        0.0             0  \n",
       "2019-12-30        0.0             0  \n",
       "2020-01-06        0.0             0  \n",
       "2020-01-13        0.0             0  \n",
       "2020-01-20        0.0             0  "
      ]
     },
     "execution_count": 209,
     "metadata": {},
     "output_type": "execute_result"
    }
   ],
   "source": [
    "h0.head()"
   ]
  },
  {
   "cell_type": "code",
   "execution_count": 210,
   "metadata": {},
   "outputs": [],
   "source": [
    "h1= yf.Ticker('amgn').history(  start='2019-12-21', \n",
    "                      end='2020-12-22' ,\n",
    "                      interval='1wk', auto_adjust = True)"
   ]
  },
  {
   "cell_type": "code",
   "execution_count": 211,
   "metadata": {},
   "outputs": [
    {
     "data": {
      "text/html": [
       "<div>\n",
       "<style scoped>\n",
       "    .dataframe tbody tr th:only-of-type {\n",
       "        vertical-align: middle;\n",
       "    }\n",
       "\n",
       "    .dataframe tbody tr th {\n",
       "        vertical-align: top;\n",
       "    }\n",
       "\n",
       "    .dataframe thead th {\n",
       "        text-align: right;\n",
       "    }\n",
       "</style>\n",
       "<table border=\"1\" class=\"dataframe\">\n",
       "  <thead>\n",
       "    <tr style=\"text-align: right;\">\n",
       "      <th></th>\n",
       "      <th>Open</th>\n",
       "      <th>High</th>\n",
       "      <th>Low</th>\n",
       "      <th>Close</th>\n",
       "      <th>Volume</th>\n",
       "      <th>Dividends</th>\n",
       "      <th>Stock Splits</th>\n",
       "    </tr>\n",
       "    <tr>\n",
       "      <th>Date</th>\n",
       "      <th></th>\n",
       "      <th></th>\n",
       "      <th></th>\n",
       "      <th></th>\n",
       "      <th></th>\n",
       "      <th></th>\n",
       "      <th></th>\n",
       "    </tr>\n",
       "  </thead>\n",
       "  <tbody>\n",
       "    <tr>\n",
       "      <th>2019-12-23</th>\n",
       "      <td>235.665331</td>\n",
       "      <td>235.684653</td>\n",
       "      <td>231.975521</td>\n",
       "      <td>233.298828</td>\n",
       "      <td>4482300.0</td>\n",
       "      <td>0.0</td>\n",
       "      <td>0</td>\n",
       "    </tr>\n",
       "    <tr>\n",
       "      <th>2019-12-30</th>\n",
       "      <td>233.173265</td>\n",
       "      <td>234.902272</td>\n",
       "      <td>228.189125</td>\n",
       "      <td>230.343124</td>\n",
       "      <td>7169700.0</td>\n",
       "      <td>0.0</td>\n",
       "      <td>0</td>\n",
       "    </tr>\n",
       "    <tr>\n",
       "      <th>2020-01-06</th>\n",
       "      <td>229.116385</td>\n",
       "      <td>232.719265</td>\n",
       "      <td>228.498197</td>\n",
       "      <td>230.140259</td>\n",
       "      <td>8943000.0</td>\n",
       "      <td>0.0</td>\n",
       "      <td>0</td>\n",
       "    </tr>\n",
       "    <tr>\n",
       "      <th>2020-01-13</th>\n",
       "      <td>230.140273</td>\n",
       "      <td>235.539782</td>\n",
       "      <td>226.788527</td>\n",
       "      <td>233.260208</td>\n",
       "      <td>10832700.0</td>\n",
       "      <td>0.0</td>\n",
       "      <td>0</td>\n",
       "    </tr>\n",
       "    <tr>\n",
       "      <th>2020-01-20</th>\n",
       "      <td>232.757936</td>\n",
       "      <td>233.762487</td>\n",
       "      <td>216.849219</td>\n",
       "      <td>217.902069</td>\n",
       "      <td>12201000.0</td>\n",
       "      <td>0.0</td>\n",
       "      <td>0</td>\n",
       "    </tr>\n",
       "  </tbody>\n",
       "</table>\n",
       "</div>"
      ],
      "text/plain": [
       "                  Open        High         Low       Close      Volume  \\\n",
       "Date                                                                     \n",
       "2019-12-23  235.665331  235.684653  231.975521  233.298828   4482300.0   \n",
       "2019-12-30  233.173265  234.902272  228.189125  230.343124   7169700.0   \n",
       "2020-01-06  229.116385  232.719265  228.498197  230.140259   8943000.0   \n",
       "2020-01-13  230.140273  235.539782  226.788527  233.260208  10832700.0   \n",
       "2020-01-20  232.757936  233.762487  216.849219  217.902069  12201000.0   \n",
       "\n",
       "            Dividends  Stock Splits  \n",
       "Date                                 \n",
       "2019-12-23        0.0             0  \n",
       "2019-12-30        0.0             0  \n",
       "2020-01-06        0.0             0  \n",
       "2020-01-13        0.0             0  \n",
       "2020-01-20        0.0             0  "
      ]
     },
     "execution_count": 211,
     "metadata": {},
     "output_type": "execute_result"
    }
   ],
   "source": [
    "h1.head()"
   ]
  },
  {
   "cell_type": "code",
   "execution_count": 212,
   "metadata": {},
   "outputs": [],
   "source": [
    "h2= yf.Ticker('amgn').history(  start='2019-12-21', \n",
    "                      end='2020-12-22' ,\n",
    "                      interval='1wk', auto_adjust = False)"
   ]
  },
  {
   "cell_type": "code",
   "execution_count": 213,
   "metadata": {
    "scrolled": true
   },
   "outputs": [
    {
     "data": {
      "text/html": [
       "<div>\n",
       "<style scoped>\n",
       "    .dataframe tbody tr th:only-of-type {\n",
       "        vertical-align: middle;\n",
       "    }\n",
       "\n",
       "    .dataframe tbody tr th {\n",
       "        vertical-align: top;\n",
       "    }\n",
       "\n",
       "    .dataframe thead th {\n",
       "        text-align: right;\n",
       "    }\n",
       "</style>\n",
       "<table border=\"1\" class=\"dataframe\">\n",
       "  <thead>\n",
       "    <tr style=\"text-align: right;\">\n",
       "      <th></th>\n",
       "      <th>Open</th>\n",
       "      <th>High</th>\n",
       "      <th>Low</th>\n",
       "      <th>Close</th>\n",
       "      <th>Adj Close</th>\n",
       "      <th>Volume</th>\n",
       "      <th>Dividends</th>\n",
       "      <th>Stock Splits</th>\n",
       "    </tr>\n",
       "    <tr>\n",
       "      <th>Date</th>\n",
       "      <th></th>\n",
       "      <th></th>\n",
       "      <th></th>\n",
       "      <th></th>\n",
       "      <th></th>\n",
       "      <th></th>\n",
       "      <th></th>\n",
       "      <th></th>\n",
       "    </tr>\n",
       "  </thead>\n",
       "  <tbody>\n",
       "    <tr>\n",
       "      <th>2019-12-23</th>\n",
       "      <td>243.979996</td>\n",
       "      <td>244.000000</td>\n",
       "      <td>240.160004</td>\n",
       "      <td>241.529999</td>\n",
       "      <td>233.298828</td>\n",
       "      <td>4482300.0</td>\n",
       "      <td>0.0</td>\n",
       "      <td>0</td>\n",
       "    </tr>\n",
       "    <tr>\n",
       "      <th>2019-12-30</th>\n",
       "      <td>241.399994</td>\n",
       "      <td>243.190002</td>\n",
       "      <td>236.240005</td>\n",
       "      <td>238.470001</td>\n",
       "      <td>230.343124</td>\n",
       "      <td>7169700.0</td>\n",
       "      <td>0.0</td>\n",
       "      <td>0</td>\n",
       "    </tr>\n",
       "    <tr>\n",
       "      <th>2020-01-06</th>\n",
       "      <td>237.199997</td>\n",
       "      <td>240.929993</td>\n",
       "      <td>236.559998</td>\n",
       "      <td>238.259995</td>\n",
       "      <td>230.140259</td>\n",
       "      <td>8943000.0</td>\n",
       "      <td>0.0</td>\n",
       "      <td>0</td>\n",
       "    </tr>\n",
       "    <tr>\n",
       "      <th>2020-01-13</th>\n",
       "      <td>238.259995</td>\n",
       "      <td>243.850006</td>\n",
       "      <td>234.789993</td>\n",
       "      <td>241.490005</td>\n",
       "      <td>233.260208</td>\n",
       "      <td>10832700.0</td>\n",
       "      <td>0.0</td>\n",
       "      <td>0</td>\n",
       "    </tr>\n",
       "    <tr>\n",
       "      <th>2020-01-20</th>\n",
       "      <td>240.970001</td>\n",
       "      <td>242.009995</td>\n",
       "      <td>224.500000</td>\n",
       "      <td>225.589996</td>\n",
       "      <td>217.902069</td>\n",
       "      <td>12201000.0</td>\n",
       "      <td>0.0</td>\n",
       "      <td>0</td>\n",
       "    </tr>\n",
       "  </tbody>\n",
       "</table>\n",
       "</div>"
      ],
      "text/plain": [
       "                  Open        High         Low       Close   Adj Close  \\\n",
       "Date                                                                     \n",
       "2019-12-23  243.979996  244.000000  240.160004  241.529999  233.298828   \n",
       "2019-12-30  241.399994  243.190002  236.240005  238.470001  230.343124   \n",
       "2020-01-06  237.199997  240.929993  236.559998  238.259995  230.140259   \n",
       "2020-01-13  238.259995  243.850006  234.789993  241.490005  233.260208   \n",
       "2020-01-20  240.970001  242.009995  224.500000  225.589996  217.902069   \n",
       "\n",
       "                Volume  Dividends  Stock Splits  \n",
       "Date                                             \n",
       "2019-12-23   4482300.0        0.0             0  \n",
       "2019-12-30   7169700.0        0.0             0  \n",
       "2020-01-06   8943000.0        0.0             0  \n",
       "2020-01-13  10832700.0        0.0             0  \n",
       "2020-01-20  12201000.0        0.0             0  "
      ]
     },
     "execution_count": 213,
     "metadata": {},
     "output_type": "execute_result"
    }
   ],
   "source": [
    "h2.head()"
   ]
  },
  {
   "cell_type": "markdown",
   "metadata": {},
   "source": [
    "## Note that this module adjusts prices for corporate actions by default. ThiS adjustment is important if you want to calculate returns from orevious Close to open. Using auto_adjust = True allows calculating returns correctly. Note that this method gives you dividend days and split days"
   ]
  },
  {
   "cell_type": "code",
   "execution_count": 169,
   "metadata": {},
   "outputs": [
    {
     "data": {
      "text/html": [
       "<div>\n",
       "<style scoped>\n",
       "    .dataframe tbody tr th:only-of-type {\n",
       "        vertical-align: middle;\n",
       "    }\n",
       "\n",
       "    .dataframe tbody tr th {\n",
       "        vertical-align: top;\n",
       "    }\n",
       "\n",
       "    .dataframe thead th {\n",
       "        text-align: right;\n",
       "    }\n",
       "</style>\n",
       "<table border=\"1\" class=\"dataframe\">\n",
       "  <thead>\n",
       "    <tr style=\"text-align: right;\">\n",
       "      <th></th>\n",
       "      <th>Open</th>\n",
       "      <th>High</th>\n",
       "      <th>Low</th>\n",
       "      <th>Close</th>\n",
       "      <th>Adj Close</th>\n",
       "      <th>Volume</th>\n",
       "      <th>Dividends</th>\n",
       "      <th>Stock Splits</th>\n",
       "    </tr>\n",
       "    <tr>\n",
       "      <th>Date</th>\n",
       "      <th></th>\n",
       "      <th></th>\n",
       "      <th></th>\n",
       "      <th></th>\n",
       "      <th></th>\n",
       "      <th></th>\n",
       "      <th></th>\n",
       "      <th></th>\n",
       "    </tr>\n",
       "  </thead>\n",
       "  <tbody>\n",
       "    <tr>\n",
       "      <th>2019-12-23</th>\n",
       "      <td>243.979996</td>\n",
       "      <td>244.000000</td>\n",
       "      <td>240.160004</td>\n",
       "      <td>241.529999</td>\n",
       "      <td>235.033539</td>\n",
       "      <td>4482300.0</td>\n",
       "      <td>0.0</td>\n",
       "      <td>0</td>\n",
       "    </tr>\n",
       "    <tr>\n",
       "      <th>2019-12-30</th>\n",
       "      <td>241.399994</td>\n",
       "      <td>243.190002</td>\n",
       "      <td>236.240005</td>\n",
       "      <td>238.470001</td>\n",
       "      <td>232.055847</td>\n",
       "      <td>7169700.0</td>\n",
       "      <td>0.0</td>\n",
       "      <td>0</td>\n",
       "    </tr>\n",
       "    <tr>\n",
       "      <th>2020-01-06</th>\n",
       "      <td>237.199997</td>\n",
       "      <td>240.929993</td>\n",
       "      <td>236.559998</td>\n",
       "      <td>238.259995</td>\n",
       "      <td>231.851501</td>\n",
       "      <td>8943000.0</td>\n",
       "      <td>0.0</td>\n",
       "      <td>0</td>\n",
       "    </tr>\n",
       "    <tr>\n",
       "      <th>2020-01-13</th>\n",
       "      <td>238.259995</td>\n",
       "      <td>243.850006</td>\n",
       "      <td>234.789993</td>\n",
       "      <td>241.490005</td>\n",
       "      <td>234.994614</td>\n",
       "      <td>10832700.0</td>\n",
       "      <td>0.0</td>\n",
       "      <td>0</td>\n",
       "    </tr>\n",
       "    <tr>\n",
       "      <th>2020-01-20</th>\n",
       "      <td>240.970001</td>\n",
       "      <td>242.009995</td>\n",
       "      <td>224.500000</td>\n",
       "      <td>225.589996</td>\n",
       "      <td>219.522293</td>\n",
       "      <td>12201000.0</td>\n",
       "      <td>0.0</td>\n",
       "      <td>0</td>\n",
       "    </tr>\n",
       "  </tbody>\n",
       "</table>\n",
       "</div>"
      ],
      "text/plain": [
       "                  Open        High         Low       Close   Adj Close  \\\n",
       "Date                                                                     \n",
       "2019-12-23  243.979996  244.000000  240.160004  241.529999  235.033539   \n",
       "2019-12-30  241.399994  243.190002  236.240005  238.470001  232.055847   \n",
       "2020-01-06  237.199997  240.929993  236.559998  238.259995  231.851501   \n",
       "2020-01-13  238.259995  243.850006  234.789993  241.490005  234.994614   \n",
       "2020-01-20  240.970001  242.009995  224.500000  225.589996  219.522293   \n",
       "\n",
       "                Volume  Dividends  Stock Splits  \n",
       "Date                                             \n",
       "2019-12-23   4482300.0        0.0             0  \n",
       "2019-12-30   7169700.0        0.0             0  \n",
       "2020-01-06   8943000.0        0.0             0  \n",
       "2020-01-13  10832700.0        0.0             0  \n",
       "2020-01-20  12201000.0        0.0             0  "
      ]
     },
     "execution_count": 169,
     "metadata": {},
     "output_type": "execute_result"
    }
   ],
   "source": [
    "h2.head()"
   ]
  },
  {
   "cell_type": "code",
   "execution_count": 214,
   "metadata": {},
   "outputs": [],
   "source": [
    "h= yf.Ticker('amgn').history(  start='2015-01-01', \n",
    "                      end='2020-12-31' ,\n",
    "                      interval='1wk', auto_adjust = True)"
   ]
  },
  {
   "cell_type": "markdown",
   "metadata": {},
   "source": [
    "## How can we get dividend days?"
   ]
  },
  {
   "cell_type": "code",
   "execution_count": 215,
   "metadata": {},
   "outputs": [],
   "source": [
    "div_dates= h[h['Dividends' ] >0]"
   ]
  },
  {
   "cell_type": "code",
   "execution_count": 216,
   "metadata": {},
   "outputs": [
    {
     "name": "stdout",
     "output_type": "stream",
     "text": [
      "            Open  High  Low  Close  Volume  Dividends  Stock Splits\n",
      "Date                                                               \n",
      "2015-02-10   NaN   NaN  NaN    NaN     NaN       0.79             0\n",
      "2015-05-12   NaN   NaN  NaN    NaN     NaN       0.79             0\n",
      "2015-08-13   NaN   NaN  NaN    NaN     NaN       0.79             0\n",
      "2015-11-12   NaN   NaN  NaN    NaN     NaN       0.79             0\n",
      "2016-02-11   NaN   NaN  NaN    NaN     NaN       1.00             0\n",
      "2016-05-13   NaN   NaN  NaN    NaN     NaN       1.00             0\n",
      "2016-08-15   NaN   NaN  NaN    NaN     NaN       1.00             0\n",
      "2016-11-14   NaN   NaN  NaN    NaN     NaN       1.00             0\n",
      "2017-02-13   NaN   NaN  NaN    NaN     NaN       1.15             0\n",
      "2017-05-15   NaN   NaN  NaN    NaN     NaN       1.15             0\n",
      "2017-08-15   NaN   NaN  NaN    NaN     NaN       1.15             0\n",
      "2017-11-16   NaN   NaN  NaN    NaN     NaN       1.15             0\n",
      "2018-02-14   NaN   NaN  NaN    NaN     NaN       1.32             0\n",
      "2018-05-16   NaN   NaN  NaN    NaN     NaN       1.32             0\n",
      "2018-08-16   NaN   NaN  NaN    NaN     NaN       1.32             0\n",
      "2018-11-15   NaN   NaN  NaN    NaN     NaN       1.32             0\n",
      "2019-02-14   NaN   NaN  NaN    NaN     NaN       1.45             0\n",
      "2019-05-16   NaN   NaN  NaN    NaN     NaN       1.45             0\n",
      "2019-08-14   NaN   NaN  NaN    NaN     NaN       1.45             0\n",
      "2019-11-14   NaN   NaN  NaN    NaN     NaN       1.45             0\n",
      "2020-02-13   NaN   NaN  NaN    NaN     NaN       1.60             0\n",
      "2020-05-15   NaN   NaN  NaN    NaN     NaN       1.60             0\n",
      "2020-08-14   NaN   NaN  NaN    NaN     NaN       1.60             0\n",
      "2020-11-13   NaN   NaN  NaN    NaN     NaN       1.60             0\n"
     ]
    }
   ],
   "source": [
    "print(div_dates)"
   ]
  },
  {
   "cell_type": "code",
   "execution_count": 217,
   "metadata": {},
   "outputs": [],
   "source": [
    "split_dates = h[h['Stock Splits' ] >0]"
   ]
  },
  {
   "cell_type": "code",
   "execution_count": 218,
   "metadata": {},
   "outputs": [
    {
     "name": "stdout",
     "output_type": "stream",
     "text": [
      "Empty DataFrame\n",
      "Columns: [Open, High, Low, Close, Volume, Dividends, Stock Splits]\n",
      "Index: []\n"
     ]
    }
   ],
   "source": [
    "print(split_dates)"
   ]
  },
  {
   "cell_type": "markdown",
   "metadata": {},
   "source": [
    "## No stock splits in period 2015 to 2020"
   ]
  },
  {
   "cell_type": "markdown",
   "metadata": {},
   "source": [
    "## Let us calculate Open to close returns and demonstrate some stats. Let us start with the folloowing data"
   ]
  },
  {
   "cell_type": "code",
   "execution_count": 219,
   "metadata": {},
   "outputs": [],
   "source": [
    "h_daily= yf.Ticker('amgn').history(  start='2016-01-02', \n",
    "                      end='2020-12-31' ,\n",
    "                      interval='1d', auto_adjust = True)"
   ]
  },
  {
   "cell_type": "markdown",
   "metadata": {},
   "source": [
    "## Create a new column in the data fram that calculates return from Open to Close"
   ]
  },
  {
   "cell_type": "code",
   "execution_count": 220,
   "metadata": {},
   "outputs": [],
   "source": [
    "h_daily['Open_to_Close_return'] = h_daily['Close'] /h_daily['Open'] -1 "
   ]
  },
  {
   "cell_type": "code",
   "execution_count": 221,
   "metadata": {},
   "outputs": [
    {
     "data": {
      "text/html": [
       "<div>\n",
       "<style scoped>\n",
       "    .dataframe tbody tr th:only-of-type {\n",
       "        vertical-align: middle;\n",
       "    }\n",
       "\n",
       "    .dataframe tbody tr th {\n",
       "        vertical-align: top;\n",
       "    }\n",
       "\n",
       "    .dataframe thead th {\n",
       "        text-align: right;\n",
       "    }\n",
       "</style>\n",
       "<table border=\"1\" class=\"dataframe\">\n",
       "  <thead>\n",
       "    <tr style=\"text-align: right;\">\n",
       "      <th></th>\n",
       "      <th>Open</th>\n",
       "      <th>High</th>\n",
       "      <th>Low</th>\n",
       "      <th>Close</th>\n",
       "      <th>Volume</th>\n",
       "      <th>Dividends</th>\n",
       "      <th>Stock Splits</th>\n",
       "      <th>Open_to_Close_return</th>\n",
       "    </tr>\n",
       "    <tr>\n",
       "      <th>Date</th>\n",
       "      <th></th>\n",
       "      <th></th>\n",
       "      <th></th>\n",
       "      <th></th>\n",
       "      <th></th>\n",
       "      <th></th>\n",
       "      <th></th>\n",
       "      <th></th>\n",
       "    </tr>\n",
       "  </thead>\n",
       "  <tbody>\n",
       "    <tr>\n",
       "      <th>2016-01-04</th>\n",
       "      <td>137.233194</td>\n",
       "      <td>137.423078</td>\n",
       "      <td>134.721565</td>\n",
       "      <td>136.663544</td>\n",
       "      <td>5083200</td>\n",
       "      <td>0.0</td>\n",
       "      <td>0</td>\n",
       "      <td>-0.004151</td>\n",
       "    </tr>\n",
       "    <tr>\n",
       "      <th>2016-01-05</th>\n",
       "      <td>137.233176</td>\n",
       "      <td>138.277535</td>\n",
       "      <td>135.722748</td>\n",
       "      <td>136.516800</td>\n",
       "      <td>2678900</td>\n",
       "      <td>0.0</td>\n",
       "      <td>0</td>\n",
       "      <td>-0.005220</td>\n",
       "    </tr>\n",
       "    <tr>\n",
       "      <th>2016-01-06</th>\n",
       "      <td>133.789440</td>\n",
       "      <td>136.309696</td>\n",
       "      <td>133.694498</td>\n",
       "      <td>135.265350</td>\n",
       "      <td>3826900</td>\n",
       "      <td>0.0</td>\n",
       "      <td>0</td>\n",
       "      <td>0.011032</td>\n",
       "    </tr>\n",
       "    <tr>\n",
       "      <th>2016-01-07</th>\n",
       "      <td>132.106327</td>\n",
       "      <td>135.032241</td>\n",
       "      <td>131.959601</td>\n",
       "      <td>132.037277</td>\n",
       "      <td>4162500</td>\n",
       "      <td>0.0</td>\n",
       "      <td>0</td>\n",
       "      <td>-0.000523</td>\n",
       "    </tr>\n",
       "    <tr>\n",
       "      <th>2016-01-08</th>\n",
       "      <td>132.158160</td>\n",
       "      <td>133.659962</td>\n",
       "      <td>129.862319</td>\n",
       "      <td>130.078094</td>\n",
       "      <td>4179600</td>\n",
       "      <td>0.0</td>\n",
       "      <td>0</td>\n",
       "      <td>-0.015739</td>\n",
       "    </tr>\n",
       "  </tbody>\n",
       "</table>\n",
       "</div>"
      ],
      "text/plain": [
       "                  Open        High         Low       Close   Volume  \\\n",
       "Date                                                                  \n",
       "2016-01-04  137.233194  137.423078  134.721565  136.663544  5083200   \n",
       "2016-01-05  137.233176  138.277535  135.722748  136.516800  2678900   \n",
       "2016-01-06  133.789440  136.309696  133.694498  135.265350  3826900   \n",
       "2016-01-07  132.106327  135.032241  131.959601  132.037277  4162500   \n",
       "2016-01-08  132.158160  133.659962  129.862319  130.078094  4179600   \n",
       "\n",
       "            Dividends  Stock Splits  Open_to_Close_return  \n",
       "Date                                                       \n",
       "2016-01-04        0.0             0             -0.004151  \n",
       "2016-01-05        0.0             0             -0.005220  \n",
       "2016-01-06        0.0             0              0.011032  \n",
       "2016-01-07        0.0             0             -0.000523  \n",
       "2016-01-08        0.0             0             -0.015739  "
      ]
     },
     "execution_count": 221,
     "metadata": {},
     "output_type": "execute_result"
    }
   ],
   "source": [
    "h_daily.head()"
   ]
  },
  {
   "cell_type": "code",
   "execution_count": 222,
   "metadata": {},
   "outputs": [],
   "source": [
    "max=h_daily['Open_to_Close_return'].max()"
   ]
  },
  {
   "cell_type": "code",
   "execution_count": 223,
   "metadata": {},
   "outputs": [
    {
     "data": {
      "text/plain": [
       "0.08322006831340034"
      ]
     },
     "execution_count": 223,
     "metadata": {},
     "output_type": "execute_result"
    }
   ],
   "source": [
    "max"
   ]
  },
  {
   "cell_type": "code",
   "execution_count": 224,
   "metadata": {},
   "outputs": [],
   "source": [
    "min=h_daily['Open_to_Close_return'].min()"
   ]
  },
  {
   "cell_type": "code",
   "execution_count": 225,
   "metadata": {},
   "outputs": [
    {
     "data": {
      "text/plain": [
       "-0.06460768039298759"
      ]
     },
     "execution_count": 225,
     "metadata": {},
     "output_type": "execute_result"
    }
   ],
   "source": [
    "min\n"
   ]
  },
  {
   "cell_type": "code",
   "execution_count": 226,
   "metadata": {},
   "outputs": [],
   "source": [
    "std=h_daily['Open_to_Close_return'].std()"
   ]
  },
  {
   "cell_type": "code",
   "execution_count": 376,
   "metadata": {},
   "outputs": [
    {
     "data": {
      "text/plain": [
       "0.013657482693367272"
      ]
     },
     "execution_count": 376,
     "metadata": {},
     "output_type": "execute_result"
    }
   ],
   "source": [
    "std"
   ]
  },
  {
   "cell_type": "code",
   "execution_count": 227,
   "metadata": {},
   "outputs": [
    {
     "data": {
      "text/plain": [
       "<matplotlib.axes._subplots.AxesSubplot at 0x7fedd6464880>"
      ]
     },
     "execution_count": 227,
     "metadata": {},
     "output_type": "execute_result"
    },
    {
     "data": {
      "image/png": "[encoded data removed]",
      "text/plain": [
       "<Figure size 432x288 with 1 Axes>"
      ]
     },
     "metadata": {
      "needs_background": "light"
     },
     "output_type": "display_data"
    }
   ],
   "source": [
    "h_daily['Open_to_Close_return'].hist()"
   ]
  },
  {
   "cell_type": "code",
   "execution_count": 228,
   "metadata": {},
   "outputs": [],
   "source": [
    "P99 = std=h_daily['Open_to_Close_return'].quantile(0.99)"
   ]
  },
  {
   "cell_type": "code",
   "execution_count": 229,
   "metadata": {},
   "outputs": [
    {
     "data": {
      "text/plain": [
       "0.04176906705735489"
      ]
     },
     "execution_count": 229,
     "metadata": {},
     "output_type": "execute_result"
    }
   ],
   "source": [
    "P99"
   ]
  },
  {
   "cell_type": "code",
   "execution_count": 230,
   "metadata": {},
   "outputs": [],
   "source": [
    "P01 = std=h_daily['Open_to_Close_return'].quantile(0.01)"
   ]
  },
  {
   "cell_type": "code",
   "execution_count": 231,
   "metadata": {},
   "outputs": [
    {
     "data": {
      "text/plain": [
       "-0.03699304283856174"
      ]
     },
     "execution_count": 231,
     "metadata": {},
     "output_type": "execute_result"
    }
   ],
   "source": [
    "P01"
   ]
  },
  {
   "cell_type": "code",
   "execution_count": 82,
   "metadata": {},
   "outputs": [],
   "source": [
    "range_0_99 = P99 - P01"
   ]
  },
  {
   "cell_type": "code",
   "execution_count": 234,
   "metadata": {},
   "outputs": [
    {
     "data": {
      "text/plain": [
       "0.07876210989591663"
      ]
     },
     "execution_count": 234,
     "metadata": {},
     "output_type": "execute_result"
    }
   ],
   "source": [
    "range_0_99"
   ]
  },
  {
   "cell_type": "code",
   "execution_count": 235,
   "metadata": {},
   "outputs": [
    {
     "data": {
      "text/plain": [
       "0.01365748269336727"
      ]
     },
     "execution_count": 235,
     "metadata": {},
     "output_type": "execute_result"
    }
   ],
   "source": [
    "std = std=h_daily['Open_to_Close_return'].std()\n",
    "std"
   ]
  },
  {
   "cell_type": "code",
   "execution_count": 236,
   "metadata": {},
   "outputs": [
    {
     "data": {
      "text/plain": [
       "5.76695659546157"
      ]
     },
     "execution_count": 236,
     "metadata": {},
     "output_type": "execute_result"
    }
   ],
   "source": [
    "range_0_99_to_std = range_0_99/std\n",
    "range_0_99_to_std"
   ]
  },
  {
   "cell_type": "markdown",
   "metadata": {},
   "source": [
    "## For the normal distribution, 99% of the values are whithin mean+- 3 STDs. A ratio of 5.77 is very close to 6 and can be seen as consistent with normal distribution"
   ]
  },
  {
   "cell_type": "code",
   "execution_count": null,
   "metadata": {},
   "outputs": [],
   "source": []
  },
  {
   "cell_type": "code",
   "execution_count": null,
   "metadata": {},
   "outputs": [],
   "source": []
  },
  {
   "cell_type": "code",
   "execution_count": null,
   "metadata": {},
   "outputs": [],
   "source": []
  },
  {
   "cell_type": "markdown",
   "metadata": {},
   "source": [
    "## Explore Stock Information Data available in yfinance"
   ]
  },
  {
   "cell_type": "markdown",
   "metadata": {},
   "source": [
    "## In addition to price data, Tickers allows us to get other stock information. Let us explore what information we can get"
   ]
  },
  {
   "cell_type": "code",
   "execution_count": 237,
   "metadata": {},
   "outputs": [],
   "source": [
    "tkr_inf= yf.Ticker('amgn').get_info()"
   ]
  },
  {
   "cell_type": "code",
   "execution_count": 238,
   "metadata": {},
   "outputs": [
    {
     "name": "stdout",
     "output_type": "stream",
     "text": [
      "{'zip': '91320-1799', 'sector': 'Healthcare', 'fullTimeEmployees': 24300, 'longBusinessSummary': \"Amgen Inc. discovers, develops, manufactures, and delivers human therapeutics worldwide. It focuses on inflammation, oncology/hematology, bone health, cardiovascular disease, nephrology and neuroscience areas. The company's products include Enbrel to treat plaque psoriasis, rheumatoid arthritis, and psoriatic arthritis; Neulasta that reduces the chance of infection due a low white blood cell count in patients cancer; Prolia to treat postmenopausal women with osteoporosis; Xgeva for skeletal-related events prevention; Otezla for the treatment of adult patients with plaque psoriasis, psoriatic arthritis, and oral ulcers associated with BehÃ§et's disease; Aranesp to treat a lower-than-normal number of red blood cells and anemia; KYPROLIS to treat patients with relapsed or refractory multiple myeloma; and Repatha, which reduces the risks of myocardial infarction, stroke, and coronary revascularization. It also markets Nplate, Vectibix, MVASI, Parsabiv, EPOGEN, KANJINTI, BLINCYTO, Aimovig, EVENITY, AMGEVITATM, Sensipar/Mimpara, NEUPOGEN, IMLYGIC, Corlanor, and AVSOLA. Amgen Inc. serves healthcare providers, including physicians or their clinics, dialysis centers, hospitals, and pharmacies. It distributes its products through pharmaceutical wholesale distributors, as well as direct-to-consumer channels. The company has collaboration agreements with Novartis Pharma AG; UCB; Bayer HealthCare LLC; BeiGene, Ltd.; and Eli Lilly and Company. Amgen Inc. was founded in 1980 and is headquartered in Thousand Oaks, California.\", 'city': 'Thousand Oaks', 'phone': '805 447 1000', 'state': 'CA', 'country': 'United States', 'companyOfficers': [], 'website': 'http://www.amgen.com', 'maxAge': 1, 'address1': 'One Amgen Center Drive', 'fax': '805 447 1010', 'industry': 'Drug Manufacturers—General', 'previousClose': 249.69, 'regularMarketOpen': 249.99, 'twoHundredDayAverage': 235.23727, 'trailingAnnualDividendYield': 0.025631784, 'payoutRatio': 0.5199, 'volume24Hr': None, 'regularMarketDayHigh': 250, 'navPrice': None, 'averageDailyVolume10Day': 4533433, 'totalAssets': None, 'regularMarketPreviousClose': 249.69, 'fiftyDayAverage': 234.02, 'trailingAnnualDividendRate': 6.4, 'open': 249.99, 'toCurrency': None, 'averageVolume10days': 4533433, 'expireDate': None, 'yield': None, 'algorithm': None, 'dividendRate': 7.04, 'exDividendDate': 1620950400, 'beta': 0.7172259999999999, 'circulatingSupply': None, 'startDate': None, 'regularMarketDayLow': 245.28, 'priceHint': 2, 'currency': 'USD', 'trailingPE': 19.979284, 'regularMarketVolume': 475669, 'lastMarket': None, 'maxSupply': None, 'openInterest': None, 'marketCap': 142049476608, 'volumeAllCurrencies': None, 'strikePrice': None, 'averageVolume': 2676763, 'priceToSalesTrailing12Months': 5.58722, 'dayLow': 245.28, 'ask': 245.92, 'ytdReturn': None, 'askSize': 900, 'volume': 475669, 'fiftyTwoWeekHigh': 276.69, 'forwardPE': 13.491224, 'fromCurrency': None, 'fiveYearAvgDividendYield': 2.63, 'fiftyTwoWeekLow': 190.01, 'bid': 245.75, 'tradeable': False, 'dividendYield': 0.028199999000000003, 'bidSize': 900, 'dayHigh': 250, 'exchange': 'NMS', 'shortName': 'Amgen Inc.', 'longName': 'Amgen Inc.', 'exchangeTimezoneName': 'America/New_York', 'exchangeTimezoneShortName': 'EDT', 'isEsgPopulated': False, 'gmtOffSetMilliseconds': '-14400000', 'quoteType': 'EQUITY', 'symbol': 'AMGN', 'messageBoardId': 'finmb_24816', 'market': 'us_market', 'annualHoldingsTurnover': None, 'enterpriseToRevenue': 6.569, 'beta3Year': None, 'profitMargins': 0.28570998000000003, 'enterpriseToEbitda': 13.08, '52WeekChange': 0.23401201, 'morningStarRiskRating': None, 'forwardEps': 18.23, 'revenueQuarterlyGrowth': None, 'sharesOutstanding': 577566016, 'fundInceptionDate': None, 'annualReportExpenseRatio': None, 'bookValue': 16.27, 'sharesShort': 8101042, 'sharesPercentSharesOut': 0.0139999995, 'fundFamily': None, 'lastFiscalYearEnd': 1609372800, 'heldPercentInstitutions': 0.77988, 'netIncomeToCommon': 7264000000, 'trailingEps': 12.31, 'lastDividendValue': 1.76, 'SandP52WeekChange': 0.652609, 'priceToBook': 15.116472, 'heldPercentInsiders': 0.0018799999000000001, 'nextFiscalYearEnd': 1672444800, 'mostRecentQuarter': 1609372800, 'shortRatio': 3.05, 'sharesShortPreviousMonthDate': 1611878400, 'floatShares': 576405475, 'enterpriseValue': 167010549760, 'threeYearAverageReturn': None, 'lastSplitDate': 943228800, 'lastSplitFactor': '2:1', 'legalType': None, 'lastDividendDate': 1613001600, 'morningStarOverallRating': None, 'earningsQuarterlyGrowth': -0.052000000000000005, 'dateShortInterest': 1614297600, 'pegRatio': 2.07, 'lastCapGain': None, 'shortPercentOfFloat': 0.014099999, 'sharesShortPriorMonth': 7562582, 'impliedSharesOutstanding': None, 'category': None, 'fiveYearAverageReturn': None, 'regularMarketPrice': 249.99, 'logo_url': 'https://logo.clearbit.com/amgen.com'}\n"
     ]
    }
   ],
   "source": [
    "print(tkr_inf)"
   ]
  },
  {
   "cell_type": "code",
   "execution_count": 239,
   "metadata": {},
   "outputs": [
    {
     "data": {
      "text/plain": [
       "dict"
      ]
     },
     "execution_count": 239,
     "metadata": {},
     "output_type": "execute_result"
    }
   ],
   "source": [
    "type(tkr_inf)"
   ]
  },
  {
   "cell_type": "markdown",
   "metadata": {},
   "source": [
    "## As you can see we can get a lot of information. Let us explore the object tkr_inf"
   ]
  },
  {
   "cell_type": "code",
   "execution_count": 240,
   "metadata": {},
   "outputs": [
    {
     "data": {
      "text/plain": [
       "'91320-1799'"
      ]
     },
     "execution_count": 240,
     "metadata": {},
     "output_type": "execute_result"
    }
   ],
   "source": [
    "tkr_inf['zip']"
   ]
  },
  {
   "cell_type": "code",
   "execution_count": 241,
   "metadata": {},
   "outputs": [
    {
     "data": {
      "text/plain": [
       "'Healthcare'"
      ]
     },
     "execution_count": 241,
     "metadata": {},
     "output_type": "execute_result"
    }
   ],
   "source": [
    "tkr_inf['sector']"
   ]
  },
  {
   "cell_type": "code",
   "execution_count": 245,
   "metadata": {},
   "outputs": [
    {
     "data": {
      "text/plain": [
       "8101042"
      ]
     },
     "execution_count": 245,
     "metadata": {},
     "output_type": "execute_result"
    }
   ],
   "source": [
    "tkr_inf['sharesShort']"
   ]
  },
  {
   "cell_type": "markdown",
   "metadata": {},
   "source": [
    "## It is a dictionary. Let us create a data frame from this dictionary. It is easier to view it as a data frame"
   ]
  },
  {
   "cell_type": "code",
   "execution_count": 246,
   "metadata": {},
   "outputs": [
    {
     "data": {
      "text/html": [
       "<div>\n",
       "<style scoped>\n",
       "    .dataframe tbody tr th:only-of-type {\n",
       "        vertical-align: middle;\n",
       "    }\n",
       "\n",
       "    .dataframe tbody tr th {\n",
       "        vertical-align: top;\n",
       "    }\n",
       "\n",
       "    .dataframe thead th {\n",
       "        text-align: right;\n",
       "    }\n",
       "</style>\n",
       "<table border=\"1\" class=\"dataframe\">\n",
       "  <thead>\n",
       "    <tr style=\"text-align: right;\">\n",
       "      <th></th>\n",
       "      <th>atribute</th>\n",
       "      <th>value</th>\n",
       "    </tr>\n",
       "  </thead>\n",
       "  <tbody>\n",
       "    <tr>\n",
       "      <th>0</th>\n",
       "      <td>zip</td>\n",
       "      <td>91320-1799</td>\n",
       "    </tr>\n",
       "    <tr>\n",
       "      <th>1</th>\n",
       "      <td>sector</td>\n",
       "      <td>Healthcare</td>\n",
       "    </tr>\n",
       "    <tr>\n",
       "      <th>2</th>\n",
       "      <td>fullTimeEmployees</td>\n",
       "      <td>24300</td>\n",
       "    </tr>\n",
       "    <tr>\n",
       "      <th>3</th>\n",
       "      <td>longBusinessSummary</td>\n",
       "      <td>Amgen Inc. discovers, develops, manufactures, ...</td>\n",
       "    </tr>\n",
       "    <tr>\n",
       "      <th>4</th>\n",
       "      <td>city</td>\n",
       "      <td>Thousand Oaks</td>\n",
       "    </tr>\n",
       "    <tr>\n",
       "      <th>...</th>\n",
       "      <td>...</td>\n",
       "      <td>...</td>\n",
       "    </tr>\n",
       "    <tr>\n",
       "      <th>119</th>\n",
       "      <td>impliedSharesOutstanding</td>\n",
       "      <td>None</td>\n",
       "    </tr>\n",
       "    <tr>\n",
       "      <th>120</th>\n",
       "      <td>category</td>\n",
       "      <td>None</td>\n",
       "    </tr>\n",
       "    <tr>\n",
       "      <th>121</th>\n",
       "      <td>fiveYearAverageReturn</td>\n",
       "      <td>None</td>\n",
       "    </tr>\n",
       "    <tr>\n",
       "      <th>122</th>\n",
       "      <td>regularMarketPrice</td>\n",
       "      <td>249.99</td>\n",
       "    </tr>\n",
       "    <tr>\n",
       "      <th>123</th>\n",
       "      <td>logo_url</td>\n",
       "      <td>https://logo.clearbit.com/amgen.com</td>\n",
       "    </tr>\n",
       "  </tbody>\n",
       "</table>\n",
       "<p>124 rows × 2 columns</p>\n",
       "</div>"
      ],
      "text/plain": [
       "                     atribute  \\\n",
       "0                         zip   \n",
       "1                      sector   \n",
       "2           fullTimeEmployees   \n",
       "3         longBusinessSummary   \n",
       "4                        city   \n",
       "..                        ...   \n",
       "119  impliedSharesOutstanding   \n",
       "120                  category   \n",
       "121     fiveYearAverageReturn   \n",
       "122        regularMarketPrice   \n",
       "123                  logo_url   \n",
       "\n",
       "                                                 value  \n",
       "0                                           91320-1799  \n",
       "1                                           Healthcare  \n",
       "2                                                24300  \n",
       "3    Amgen Inc. discovers, develops, manufactures, ...  \n",
       "4                                        Thousand Oaks  \n",
       "..                                                 ...  \n",
       "119                                               None  \n",
       "120                                               None  \n",
       "121                                               None  \n",
       "122                                             249.99  \n",
       "123                https://logo.clearbit.com/amgen.com  \n",
       "\n",
       "[124 rows x 2 columns]"
      ]
     },
     "execution_count": 246,
     "metadata": {},
     "output_type": "execute_result"
    }
   ],
   "source": [
    "ticker_info = pd.DataFrame(list(tkr_inf.items()),columns = ['atribute','value']) \n",
    "ticker_info"
   ]
  },
  {
   "cell_type": "markdown",
   "metadata": {},
   "source": [
    "## Let us create a csv file of this dataframe. We can use this file as a reference on what stock information is available"
   ]
  },
  {
   "cell_type": "code",
   "execution_count": 247,
   "metadata": {},
   "outputs": [],
   "source": [
    "ticker_info.to_csv('available_yf_Ticker_info.csv', index = False)"
   ]
  },
  {
   "cell_type": "markdown",
   "metadata": {},
   "source": [
    "## The above file will contain attributes available on the ticker. The option index=False suppresses creating a numerical index column.Here are few examples"
   ]
  },
  {
   "cell_type": "code",
   "execution_count": 248,
   "metadata": {},
   "outputs": [],
   "source": [
    "sector =yf.Ticker(symbol).info['sector']"
   ]
  },
  {
   "cell_type": "markdown",
   "metadata": {},
   "source": [
    "## or"
   ]
  },
  {
   "cell_type": "code",
   "execution_count": 249,
   "metadata": {},
   "outputs": [
    {
     "data": {
      "text/plain": [
       "'Healthcare'"
      ]
     },
     "execution_count": 249,
     "metadata": {},
     "output_type": "execute_result"
    }
   ],
   "source": [
    "tkr_inf['sector']"
   ]
  },
  {
   "cell_type": "code",
   "execution_count": 309,
   "metadata": {
    "scrolled": true
   },
   "outputs": [
    {
     "data": {
      "text/plain": [
       "'Healthcare'"
      ]
     },
     "execution_count": 309,
     "metadata": {},
     "output_type": "execute_result"
    }
   ],
   "source": [
    "sector"
   ]
  },
  {
   "cell_type": "code",
   "execution_count": 250,
   "metadata": {},
   "outputs": [
    {
     "data": {
      "text/plain": [
       "'Drug Manufacturers—General'"
      ]
     },
     "execution_count": 250,
     "metadata": {},
     "output_type": "execute_result"
    }
   ],
   "source": [
    "industry =tkr_inf['industry']\n",
    "industry"
   ]
  },
  {
   "cell_type": "code",
   "execution_count": 251,
   "metadata": {},
   "outputs": [],
   "source": [
    "beta=tkr_inf['beta']"
   ]
  },
  {
   "cell_type": "code",
   "execution_count": 252,
   "metadata": {},
   "outputs": [
    {
     "data": {
      "text/plain": [
       "0.7172259999999999"
      ]
     },
     "execution_count": 252,
     "metadata": {},
     "output_type": "execute_result"
    }
   ],
   "source": [
    "beta"
   ]
  },
  {
   "cell_type": "markdown",
   "metadata": {},
   "source": [
    "## Here is another method. It is analyst recommendation by firm and date"
   ]
  },
  {
   "cell_type": "code",
   "execution_count": 253,
   "metadata": {},
   "outputs": [],
   "source": [
    "recommendations=yf.Ticker(symbol).recommendations"
   ]
  },
  {
   "cell_type": "code",
   "execution_count": 254,
   "metadata": {},
   "outputs": [
    {
     "name": "stdout",
     "output_type": "stream",
     "text": [
      "                                  Firm        To Grade From Grade Action\n",
      "Date                                                                    \n",
      "2012-02-09 07:23:00        Oppenheimer         Perform              down\n",
      "2012-02-09 12:10:00                UBS         Neutral              main\n",
      "2012-02-10 06:36:00     Morgan Stanley    Equal-Weight              init\n",
      "2012-04-25 08:13:00      Goldman Sachs         Neutral              main\n",
      "2012-04-25 08:18:00          Citigroup             Buy              main\n",
      "...                                ...             ...        ...    ...\n",
      "2021-02-03 18:09:45  Cantor Fitzgerald      Overweight              main\n",
      "2021-03-01 16:02:02        SVB Leerink  Market Perform              main\n",
      "2021-03-05 11:39:45        SVB Leerink  Market Perform              main\n",
      "2021-03-05 13:17:15     Morgan Stanley      Overweight              main\n",
      "2021-03-05 14:34:28           Barclays    Equal-Weight              main\n",
      "\n",
      "[196 rows x 4 columns]\n"
     ]
    }
   ],
   "source": [
    "print(recommendations)"
   ]
  },
  {
   "cell_type": "code",
   "execution_count": 109,
   "metadata": {},
   "outputs": [],
   "source": [
    "recommendations.to_csv('amgn_recommendations.csv', index = True) ## here the index is the recommendation date which we want to keep"
   ]
  },
  {
   "cell_type": "markdown",
   "metadata": {},
   "source": [
    "# Here is corporate action events"
   ]
  },
  {
   "cell_type": "code",
   "execution_count": 110,
   "metadata": {
    "scrolled": true
   },
   "outputs": [
    {
     "data": {
      "text/html": [
       "<div>\n",
       "<style scoped>\n",
       "    .dataframe tbody tr th:only-of-type {\n",
       "        vertical-align: middle;\n",
       "    }\n",
       "\n",
       "    .dataframe tbody tr th {\n",
       "        vertical-align: top;\n",
       "    }\n",
       "\n",
       "    .dataframe thead th {\n",
       "        text-align: right;\n",
       "    }\n",
       "</style>\n",
       "<table border=\"1\" class=\"dataframe\">\n",
       "  <thead>\n",
       "    <tr style=\"text-align: right;\">\n",
       "      <th></th>\n",
       "      <th>Dividends</th>\n",
       "      <th>Stock Splits</th>\n",
       "    </tr>\n",
       "    <tr>\n",
       "      <th>Date</th>\n",
       "      <th></th>\n",
       "      <th></th>\n",
       "    </tr>\n",
       "  </thead>\n",
       "  <tbody>\n",
       "    <tr>\n",
       "      <th>1990-08-13</th>\n",
       "      <td>0.00</td>\n",
       "      <td>2.0</td>\n",
       "    </tr>\n",
       "    <tr>\n",
       "      <th>1991-09-11</th>\n",
       "      <td>0.00</td>\n",
       "      <td>3.0</td>\n",
       "    </tr>\n",
       "    <tr>\n",
       "      <th>1995-08-16</th>\n",
       "      <td>0.00</td>\n",
       "      <td>2.0</td>\n",
       "    </tr>\n",
       "    <tr>\n",
       "      <th>1999-03-01</th>\n",
       "      <td>0.00</td>\n",
       "      <td>2.0</td>\n",
       "    </tr>\n",
       "    <tr>\n",
       "      <th>1999-11-22</th>\n",
       "      <td>0.00</td>\n",
       "      <td>2.0</td>\n",
       "    </tr>\n",
       "    <tr>\n",
       "      <th>2011-08-16</th>\n",
       "      <td>0.28</td>\n",
       "      <td>0.0</td>\n",
       "    </tr>\n",
       "    <tr>\n",
       "      <th>2011-11-15</th>\n",
       "      <td>0.28</td>\n",
       "      <td>0.0</td>\n",
       "    </tr>\n",
       "    <tr>\n",
       "      <th>2012-02-13</th>\n",
       "      <td>0.36</td>\n",
       "      <td>0.0</td>\n",
       "    </tr>\n",
       "    <tr>\n",
       "      <th>2012-05-14</th>\n",
       "      <td>0.36</td>\n",
       "      <td>0.0</td>\n",
       "    </tr>\n",
       "    <tr>\n",
       "      <th>2012-08-14</th>\n",
       "      <td>0.36</td>\n",
       "      <td>0.0</td>\n",
       "    </tr>\n",
       "    <tr>\n",
       "      <th>2012-11-13</th>\n",
       "      <td>0.36</td>\n",
       "      <td>0.0</td>\n",
       "    </tr>\n",
       "    <tr>\n",
       "      <th>2013-02-11</th>\n",
       "      <td>0.47</td>\n",
       "      <td>0.0</td>\n",
       "    </tr>\n",
       "    <tr>\n",
       "      <th>2013-05-14</th>\n",
       "      <td>0.47</td>\n",
       "      <td>0.0</td>\n",
       "    </tr>\n",
       "    <tr>\n",
       "      <th>2013-08-14</th>\n",
       "      <td>0.47</td>\n",
       "      <td>0.0</td>\n",
       "    </tr>\n",
       "    <tr>\n",
       "      <th>2013-11-12</th>\n",
       "      <td>0.47</td>\n",
       "      <td>0.0</td>\n",
       "    </tr>\n",
       "    <tr>\n",
       "      <th>2014-02-11</th>\n",
       "      <td>0.61</td>\n",
       "      <td>0.0</td>\n",
       "    </tr>\n",
       "    <tr>\n",
       "      <th>2014-05-13</th>\n",
       "      <td>0.61</td>\n",
       "      <td>0.0</td>\n",
       "    </tr>\n",
       "    <tr>\n",
       "      <th>2014-08-12</th>\n",
       "      <td>0.61</td>\n",
       "      <td>0.0</td>\n",
       "    </tr>\n",
       "    <tr>\n",
       "      <th>2014-11-10</th>\n",
       "      <td>0.61</td>\n",
       "      <td>0.0</td>\n",
       "    </tr>\n",
       "    <tr>\n",
       "      <th>2015-02-10</th>\n",
       "      <td>0.79</td>\n",
       "      <td>0.0</td>\n",
       "    </tr>\n",
       "    <tr>\n",
       "      <th>2015-05-12</th>\n",
       "      <td>0.79</td>\n",
       "      <td>0.0</td>\n",
       "    </tr>\n",
       "    <tr>\n",
       "      <th>2015-08-13</th>\n",
       "      <td>0.79</td>\n",
       "      <td>0.0</td>\n",
       "    </tr>\n",
       "    <tr>\n",
       "      <th>2015-11-12</th>\n",
       "      <td>0.79</td>\n",
       "      <td>0.0</td>\n",
       "    </tr>\n",
       "    <tr>\n",
       "      <th>2016-02-11</th>\n",
       "      <td>1.00</td>\n",
       "      <td>0.0</td>\n",
       "    </tr>\n",
       "    <tr>\n",
       "      <th>2016-05-13</th>\n",
       "      <td>1.00</td>\n",
       "      <td>0.0</td>\n",
       "    </tr>\n",
       "    <tr>\n",
       "      <th>2016-08-15</th>\n",
       "      <td>1.00</td>\n",
       "      <td>0.0</td>\n",
       "    </tr>\n",
       "    <tr>\n",
       "      <th>2016-11-14</th>\n",
       "      <td>1.00</td>\n",
       "      <td>0.0</td>\n",
       "    </tr>\n",
       "    <tr>\n",
       "      <th>2017-02-13</th>\n",
       "      <td>1.15</td>\n",
       "      <td>0.0</td>\n",
       "    </tr>\n",
       "    <tr>\n",
       "      <th>2017-05-15</th>\n",
       "      <td>1.15</td>\n",
       "      <td>0.0</td>\n",
       "    </tr>\n",
       "    <tr>\n",
       "      <th>2017-08-15</th>\n",
       "      <td>1.15</td>\n",
       "      <td>0.0</td>\n",
       "    </tr>\n",
       "    <tr>\n",
       "      <th>2017-11-16</th>\n",
       "      <td>1.15</td>\n",
       "      <td>0.0</td>\n",
       "    </tr>\n",
       "    <tr>\n",
       "      <th>2018-02-14</th>\n",
       "      <td>1.32</td>\n",
       "      <td>0.0</td>\n",
       "    </tr>\n",
       "    <tr>\n",
       "      <th>2018-05-16</th>\n",
       "      <td>1.32</td>\n",
       "      <td>0.0</td>\n",
       "    </tr>\n",
       "    <tr>\n",
       "      <th>2018-08-16</th>\n",
       "      <td>1.32</td>\n",
       "      <td>0.0</td>\n",
       "    </tr>\n",
       "    <tr>\n",
       "      <th>2018-11-15</th>\n",
       "      <td>1.32</td>\n",
       "      <td>0.0</td>\n",
       "    </tr>\n",
       "    <tr>\n",
       "      <th>2019-02-14</th>\n",
       "      <td>1.45</td>\n",
       "      <td>0.0</td>\n",
       "    </tr>\n",
       "    <tr>\n",
       "      <th>2019-05-16</th>\n",
       "      <td>1.45</td>\n",
       "      <td>0.0</td>\n",
       "    </tr>\n",
       "    <tr>\n",
       "      <th>2019-08-14</th>\n",
       "      <td>1.45</td>\n",
       "      <td>0.0</td>\n",
       "    </tr>\n",
       "    <tr>\n",
       "      <th>2019-11-14</th>\n",
       "      <td>1.45</td>\n",
       "      <td>0.0</td>\n",
       "    </tr>\n",
       "    <tr>\n",
       "      <th>2020-02-13</th>\n",
       "      <td>1.60</td>\n",
       "      <td>0.0</td>\n",
       "    </tr>\n",
       "    <tr>\n",
       "      <th>2020-05-15</th>\n",
       "      <td>1.60</td>\n",
       "      <td>0.0</td>\n",
       "    </tr>\n",
       "    <tr>\n",
       "      <th>2020-08-14</th>\n",
       "      <td>1.60</td>\n",
       "      <td>0.0</td>\n",
       "    </tr>\n",
       "    <tr>\n",
       "      <th>2020-11-13</th>\n",
       "      <td>1.60</td>\n",
       "      <td>0.0</td>\n",
       "    </tr>\n",
       "    <tr>\n",
       "      <th>2021-02-11</th>\n",
       "      <td>1.76</td>\n",
       "      <td>0.0</td>\n",
       "    </tr>\n",
       "  </tbody>\n",
       "</table>\n",
       "</div>"
      ],
      "text/plain": [
       "            Dividends  Stock Splits\n",
       "Date                               \n",
       "1990-08-13       0.00           2.0\n",
       "1991-09-11       0.00           3.0\n",
       "1995-08-16       0.00           2.0\n",
       "1999-03-01       0.00           2.0\n",
       "1999-11-22       0.00           2.0\n",
       "2011-08-16       0.28           0.0\n",
       "2011-11-15       0.28           0.0\n",
       "2012-02-13       0.36           0.0\n",
       "2012-05-14       0.36           0.0\n",
       "2012-08-14       0.36           0.0\n",
       "2012-11-13       0.36           0.0\n",
       "2013-02-11       0.47           0.0\n",
       "2013-05-14       0.47           0.0\n",
       "2013-08-14       0.47           0.0\n",
       "2013-11-12       0.47           0.0\n",
       "2014-02-11       0.61           0.0\n",
       "2014-05-13       0.61           0.0\n",
       "2014-08-12       0.61           0.0\n",
       "2014-11-10       0.61           0.0\n",
       "2015-02-10       0.79           0.0\n",
       "2015-05-12       0.79           0.0\n",
       "2015-08-13       0.79           0.0\n",
       "2015-11-12       0.79           0.0\n",
       "2016-02-11       1.00           0.0\n",
       "2016-05-13       1.00           0.0\n",
       "2016-08-15       1.00           0.0\n",
       "2016-11-14       1.00           0.0\n",
       "2017-02-13       1.15           0.0\n",
       "2017-05-15       1.15           0.0\n",
       "2017-08-15       1.15           0.0\n",
       "2017-11-16       1.15           0.0\n",
       "2018-02-14       1.32           0.0\n",
       "2018-05-16       1.32           0.0\n",
       "2018-08-16       1.32           0.0\n",
       "2018-11-15       1.32           0.0\n",
       "2019-02-14       1.45           0.0\n",
       "2019-05-16       1.45           0.0\n",
       "2019-08-14       1.45           0.0\n",
       "2019-11-14       1.45           0.0\n",
       "2020-02-13       1.60           0.0\n",
       "2020-05-15       1.60           0.0\n",
       "2020-08-14       1.60           0.0\n",
       "2020-11-13       1.60           0.0\n",
       "2021-02-11       1.76           0.0"
      ]
     },
     "execution_count": 110,
     "metadata": {},
     "output_type": "execute_result"
    }
   ],
   "source": [
    "yf.Ticker(symbol).actions"
   ]
  },
  {
   "cell_type": "markdown",
   "metadata": {},
   "source": [
    "## Here is information on major holders of the stock"
   ]
  },
  {
   "cell_type": "code",
   "execution_count": 255,
   "metadata": {},
   "outputs": [],
   "source": [
    "amgn_major_holders= yf.Ticker(symbol).major_holders "
   ]
  },
  {
   "cell_type": "code",
   "execution_count": 256,
   "metadata": {},
   "outputs": [
    {
     "data": {
      "text/html": [
       "<div>\n",
       "<style scoped>\n",
       "    .dataframe tbody tr th:only-of-type {\n",
       "        vertical-align: middle;\n",
       "    }\n",
       "\n",
       "    .dataframe tbody tr th {\n",
       "        vertical-align: top;\n",
       "    }\n",
       "\n",
       "    .dataframe thead th {\n",
       "        text-align: right;\n",
       "    }\n",
       "</style>\n",
       "<table border=\"1\" class=\"dataframe\">\n",
       "  <thead>\n",
       "    <tr style=\"text-align: right;\">\n",
       "      <th></th>\n",
       "      <th>0</th>\n",
       "      <th>1</th>\n",
       "    </tr>\n",
       "  </thead>\n",
       "  <tbody>\n",
       "    <tr>\n",
       "      <th>0</th>\n",
       "      <td>0.19%</td>\n",
       "      <td>% of Shares Held by All Insider</td>\n",
       "    </tr>\n",
       "    <tr>\n",
       "      <th>1</th>\n",
       "      <td>77.99%</td>\n",
       "      <td>% of Shares Held by Institutions</td>\n",
       "    </tr>\n",
       "    <tr>\n",
       "      <th>2</th>\n",
       "      <td>78.14%</td>\n",
       "      <td>% of Float Held by Institutions</td>\n",
       "    </tr>\n",
       "    <tr>\n",
       "      <th>3</th>\n",
       "      <td>2732</td>\n",
       "      <td>Number of Institutions Holding Shares</td>\n",
       "    </tr>\n",
       "  </tbody>\n",
       "</table>\n",
       "</div>"
      ],
      "text/plain": [
       "        0                                      1\n",
       "0   0.19%        % of Shares Held by All Insider\n",
       "1  77.99%       % of Shares Held by Institutions\n",
       "2  78.14%        % of Float Held by Institutions\n",
       "3    2732  Number of Institutions Holding Shares"
      ]
     },
     "execution_count": 256,
     "metadata": {},
     "output_type": "execute_result"
    }
   ],
   "source": [
    "amgn_major_holders"
   ]
  },
  {
   "cell_type": "markdown",
   "metadata": {},
   "source": [
    "## Let us rename the columns of the above dataframe"
   ]
  },
  {
   "cell_type": "code",
   "execution_count": 257,
   "metadata": {},
   "outputs": [],
   "source": [
    "amgn_major_holders.columns=['Percent', 'Holer']"
   ]
  },
  {
   "cell_type": "code",
   "execution_count": 258,
   "metadata": {},
   "outputs": [
    {
     "data": {
      "text/html": [
       "<div>\n",
       "<style scoped>\n",
       "    .dataframe tbody tr th:only-of-type {\n",
       "        vertical-align: middle;\n",
       "    }\n",
       "\n",
       "    .dataframe tbody tr th {\n",
       "        vertical-align: top;\n",
       "    }\n",
       "\n",
       "    .dataframe thead th {\n",
       "        text-align: right;\n",
       "    }\n",
       "</style>\n",
       "<table border=\"1\" class=\"dataframe\">\n",
       "  <thead>\n",
       "    <tr style=\"text-align: right;\">\n",
       "      <th></th>\n",
       "      <th>Percent</th>\n",
       "      <th>Holer</th>\n",
       "    </tr>\n",
       "  </thead>\n",
       "  <tbody>\n",
       "    <tr>\n",
       "      <th>0</th>\n",
       "      <td>0.19%</td>\n",
       "      <td>% of Shares Held by All Insider</td>\n",
       "    </tr>\n",
       "    <tr>\n",
       "      <th>1</th>\n",
       "      <td>77.99%</td>\n",
       "      <td>% of Shares Held by Institutions</td>\n",
       "    </tr>\n",
       "    <tr>\n",
       "      <th>2</th>\n",
       "      <td>78.14%</td>\n",
       "      <td>% of Float Held by Institutions</td>\n",
       "    </tr>\n",
       "    <tr>\n",
       "      <th>3</th>\n",
       "      <td>2732</td>\n",
       "      <td>Number of Institutions Holding Shares</td>\n",
       "    </tr>\n",
       "  </tbody>\n",
       "</table>\n",
       "</div>"
      ],
      "text/plain": [
       "  Percent                                  Holer\n",
       "0   0.19%        % of Shares Held by All Insider\n",
       "1  77.99%       % of Shares Held by Institutions\n",
       "2  78.14%        % of Float Held by Institutions\n",
       "3    2732  Number of Institutions Holding Shares"
      ]
     },
     "execution_count": 258,
     "metadata": {},
     "output_type": "execute_result"
    }
   ],
   "source": [
    "amgn_major_holders"
   ]
  },
  {
   "cell_type": "code",
   "execution_count": 115,
   "metadata": {},
   "outputs": [
    {
     "data": {
      "text/plain": [
       "'0.19%'"
      ]
     },
     "execution_count": 115,
     "metadata": {},
     "output_type": "execute_result"
    }
   ],
   "source": [
    "amgn_major_holders.Percent[0]"
   ]
  },
  {
   "cell_type": "markdown",
   "metadata": {},
   "source": [
    "## Here is a breakdown of institutional holders"
   ]
  },
  {
   "cell_type": "code",
   "execution_count": 259,
   "metadata": {
    "scrolled": true
   },
   "outputs": [
    {
     "data": {
      "text/html": [
       "<div>\n",
       "<style scoped>\n",
       "    .dataframe tbody tr th:only-of-type {\n",
       "        vertical-align: middle;\n",
       "    }\n",
       "\n",
       "    .dataframe tbody tr th {\n",
       "        vertical-align: top;\n",
       "    }\n",
       "\n",
       "    .dataframe thead th {\n",
       "        text-align: right;\n",
       "    }\n",
       "</style>\n",
       "<table border=\"1\" class=\"dataframe\">\n",
       "  <thead>\n",
       "    <tr style=\"text-align: right;\">\n",
       "      <th></th>\n",
       "      <th>Holder</th>\n",
       "      <th>Shares</th>\n",
       "      <th>Date Reported</th>\n",
       "      <th>% Out</th>\n",
       "      <th>Value</th>\n",
       "    </tr>\n",
       "  </thead>\n",
       "  <tbody>\n",
       "    <tr>\n",
       "      <th>0</th>\n",
       "      <td>Blackrock Inc.</td>\n",
       "      <td>47805794</td>\n",
       "      <td>2020-12-30</td>\n",
       "      <td>0.0828</td>\n",
       "      <td>10991508156</td>\n",
       "    </tr>\n",
       "    <tr>\n",
       "      <th>1</th>\n",
       "      <td>Vanguard Group, Inc. (The)</td>\n",
       "      <td>47227229</td>\n",
       "      <td>2020-12-30</td>\n",
       "      <td>0.0818</td>\n",
       "      <td>10858484491</td>\n",
       "    </tr>\n",
       "    <tr>\n",
       "      <th>2</th>\n",
       "      <td>Capital Research Global Investors</td>\n",
       "      <td>31762327</td>\n",
       "      <td>2020-12-30</td>\n",
       "      <td>0.0550</td>\n",
       "      <td>7302794223</td>\n",
       "    </tr>\n",
       "    <tr>\n",
       "      <th>3</th>\n",
       "      <td>State Street Corporation</td>\n",
       "      <td>30093136</td>\n",
       "      <td>2020-12-30</td>\n",
       "      <td>0.0521</td>\n",
       "      <td>6919013829</td>\n",
       "    </tr>\n",
       "    <tr>\n",
       "      <th>4</th>\n",
       "      <td>Primecap Management Company</td>\n",
       "      <td>16978827</td>\n",
       "      <td>2020-12-30</td>\n",
       "      <td>0.0294</td>\n",
       "      <td>3903771903</td>\n",
       "    </tr>\n",
       "    <tr>\n",
       "      <th>5</th>\n",
       "      <td>FMR, LLC</td>\n",
       "      <td>13781976</td>\n",
       "      <td>2020-12-30</td>\n",
       "      <td>0.0239</td>\n",
       "      <td>3168751921</td>\n",
       "    </tr>\n",
       "    <tr>\n",
       "      <th>6</th>\n",
       "      <td>Morgan Stanley</td>\n",
       "      <td>9745556</td>\n",
       "      <td>2020-12-30</td>\n",
       "      <td>0.0169</td>\n",
       "      <td>2240698235</td>\n",
       "    </tr>\n",
       "    <tr>\n",
       "      <th>7</th>\n",
       "      <td>Geode Capital Management, LLC</td>\n",
       "      <td>8801246</td>\n",
       "      <td>2020-12-30</td>\n",
       "      <td>0.0152</td>\n",
       "      <td>2023582480</td>\n",
       "    </tr>\n",
       "    <tr>\n",
       "      <th>8</th>\n",
       "      <td>Northern Trust Corporation</td>\n",
       "      <td>7920565</td>\n",
       "      <td>2020-12-30</td>\n",
       "      <td>0.0137</td>\n",
       "      <td>1821096304</td>\n",
       "    </tr>\n",
       "    <tr>\n",
       "      <th>9</th>\n",
       "      <td>Wells Fargo &amp; Company</td>\n",
       "      <td>7613118</td>\n",
       "      <td>2020-12-30</td>\n",
       "      <td>0.0132</td>\n",
       "      <td>1750408090</td>\n",
       "    </tr>\n",
       "  </tbody>\n",
       "</table>\n",
       "</div>"
      ],
      "text/plain": [
       "                              Holder    Shares Date Reported   % Out  \\\n",
       "0                     Blackrock Inc.  47805794    2020-12-30  0.0828   \n",
       "1         Vanguard Group, Inc. (The)  47227229    2020-12-30  0.0818   \n",
       "2  Capital Research Global Investors  31762327    2020-12-30  0.0550   \n",
       "3           State Street Corporation  30093136    2020-12-30  0.0521   \n",
       "4        Primecap Management Company  16978827    2020-12-30  0.0294   \n",
       "5                           FMR, LLC  13781976    2020-12-30  0.0239   \n",
       "6                     Morgan Stanley   9745556    2020-12-30  0.0169   \n",
       "7      Geode Capital Management, LLC   8801246    2020-12-30  0.0152   \n",
       "8         Northern Trust Corporation   7920565    2020-12-30  0.0137   \n",
       "9              Wells Fargo & Company   7613118    2020-12-30  0.0132   \n",
       "\n",
       "         Value  \n",
       "0  10991508156  \n",
       "1  10858484491  \n",
       "2   7302794223  \n",
       "3   6919013829  \n",
       "4   3903771903  \n",
       "5   3168751921  \n",
       "6   2240698235  \n",
       "7   2023582480  \n",
       "8   1821096304  \n",
       "9   1750408090  "
      ]
     },
     "execution_count": 259,
     "metadata": {},
     "output_type": "execute_result"
    }
   ],
   "source": [
    "yf.Ticker(symbol).institutional_holders"
   ]
  },
  {
   "cell_type": "code",
   "execution_count": null,
   "metadata": {},
   "outputs": [],
   "source": []
  },
  {
   "cell_type": "code",
   "execution_count": null,
   "metadata": {},
   "outputs": [],
   "source": []
  },
  {
   "cell_type": "code",
   "execution_count": null,
   "metadata": {},
   "outputs": [],
   "source": []
  },
  {
   "cell_type": "markdown",
   "metadata": {},
   "source": [
    "## Data Frame of Stock Attributes for Many Tickers"
   ]
  },
  {
   "cell_type": "markdown",
   "metadata": {},
   "source": [
    "## For a list of symbols we will extract Stock information Attributes and creat a datafram that provide columns of attributes for a column of stock symbols\n"
   ]
  },
  {
   "cell_type": "code",
   "execution_count": 260,
   "metadata": {},
   "outputs": [],
   "source": [
    "symbols = ['JPM', 'KO', 'MCD', 'MMM', 'MRK', 'MSFT', 'NKE', 'PG', 'TRV', 'UNH', 'V', 'VZ', 'WBA', 'WMT']"
   ]
  },
  {
   "cell_type": "code",
   "execution_count": 261,
   "metadata": {},
   "outputs": [
    {
     "data": {
      "text/plain": [
       "list"
      ]
     },
     "execution_count": 261,
     "metadata": {},
     "output_type": "execute_result"
    }
   ],
   "source": [
    "type(symbols)"
   ]
  },
  {
   "cell_type": "code",
   "execution_count": 262,
   "metadata": {},
   "outputs": [
    {
     "data": {
      "text/plain": [
       "['JPM',\n",
       " 'KO',\n",
       " 'MCD',\n",
       " 'MMM',\n",
       " 'MRK',\n",
       " 'MSFT',\n",
       " 'NKE',\n",
       " 'PG',\n",
       " 'TRV',\n",
       " 'UNH',\n",
       " 'V',\n",
       " 'VZ',\n",
       " 'WBA',\n",
       " 'WMT']"
      ]
     },
     "execution_count": 262,
     "metadata": {},
     "output_type": "execute_result"
    }
   ],
   "source": [
    "symbols"
   ]
  },
  {
   "cell_type": "code",
   "execution_count": 263,
   "metadata": {},
   "outputs": [],
   "source": [
    "sector= sector =yf.Ticker(symbol).info['sector']"
   ]
  },
  {
   "cell_type": "code",
   "execution_count": 121,
   "metadata": {},
   "outputs": [
    {
     "data": {
      "text/plain": [
       "'Healthcare'"
      ]
     },
     "execution_count": 121,
     "metadata": {},
     "output_type": "execute_result"
    }
   ],
   "source": [
    "sector"
   ]
  },
  {
   "cell_type": "code",
   "execution_count": 264,
   "metadata": {},
   "outputs": [],
   "source": [
    "industry =  sector =yf.Ticker(symbol).info['industry']"
   ]
  },
  {
   "cell_type": "code",
   "execution_count": 265,
   "metadata": {},
   "outputs": [
    {
     "data": {
      "text/plain": [
       "'Drug Manufacturers—General'"
      ]
     },
     "execution_count": 265,
     "metadata": {},
     "output_type": "execute_result"
    }
   ],
   "source": [
    "industry"
   ]
  },
  {
   "cell_type": "code",
   "execution_count": 266,
   "metadata": {},
   "outputs": [],
   "source": [
    "marketCap =  yf.Ticker(symbol).info['marketCap']"
   ]
  },
  {
   "cell_type": "code",
   "execution_count": 267,
   "metadata": {},
   "outputs": [
    {
     "data": {
      "text/plain": [
       "142271840256"
      ]
     },
     "execution_count": 267,
     "metadata": {},
     "output_type": "execute_result"
    }
   ],
   "source": [
    "marketCap"
   ]
  },
  {
   "cell_type": "code",
   "execution_count": 268,
   "metadata": {},
   "outputs": [],
   "source": [
    "beta = yf.Ticker(symbol).info['beta']"
   ]
  },
  {
   "cell_type": "code",
   "execution_count": 127,
   "metadata": {},
   "outputs": [
    {
     "data": {
      "text/plain": [
       "0.7172259999999999"
      ]
     },
     "execution_count": 127,
     "metadata": {},
     "output_type": "execute_result"
    }
   ],
   "source": [
    "beta"
   ]
  },
  {
   "cell_type": "code",
   "execution_count": 269,
   "metadata": {},
   "outputs": [],
   "source": [
    "trailingPE = yf.Ticker(symbol).info['trailingPE']"
   ]
  },
  {
   "cell_type": "code",
   "execution_count": 270,
   "metadata": {},
   "outputs": [
    {
     "data": {
      "text/plain": [
       "20.00406"
      ]
     },
     "execution_count": 270,
     "metadata": {},
     "output_type": "execute_result"
    }
   ],
   "source": [
    "trailingPE "
   ]
  },
  {
   "cell_type": "code",
   "execution_count": 132,
   "metadata": {},
   "outputs": [],
   "source": [
    "priceToBook= yf.Ticker(symbol).info['priceToBook']"
   ]
  },
  {
   "cell_type": "markdown",
   "metadata": {},
   "source": [
    "## Create a DataFrame with columns names"
   ]
  },
  {
   "cell_type": "markdown",
   "metadata": {},
   "source": [
    "## We create a data frame columns heads equal the names of the attributes to be extracted"
   ]
  },
  {
   "cell_type": "code",
   "execution_count": 271,
   "metadata": {},
   "outputs": [],
   "source": [
    "all=pd.DataFrame(columns=['symbol', 'sector', 'industry', 'marketCap', 'beta','trailingPE','priceToBook'])"
   ]
  },
  {
   "cell_type": "code",
   "execution_count": 272,
   "metadata": {},
   "outputs": [
    {
     "data": {
      "text/plain": [
       "Index(['symbol', 'sector', 'industry', 'marketCap', 'beta', 'trailingPE',\n",
       "       'priceToBook'],\n",
       "      dtype='object')"
      ]
     },
     "execution_count": 272,
     "metadata": {},
     "output_type": "execute_result"
    }
   ],
   "source": [
    "all.columns #we test columns names of all"
   ]
  },
  {
   "cell_type": "code",
   "execution_count": 273,
   "metadata": {},
   "outputs": [
    {
     "data": {
      "text/plain": [
       "['JPM',\n",
       " 'KO',\n",
       " 'MCD',\n",
       " 'MMM',\n",
       " 'MRK',\n",
       " 'MSFT',\n",
       " 'NKE',\n",
       " 'PG',\n",
       " 'TRV',\n",
       " 'UNH',\n",
       " 'V',\n",
       " 'VZ',\n",
       " 'WBA',\n",
       " 'WMT']"
      ]
     },
     "execution_count": 273,
     "metadata": {},
     "output_type": "execute_result"
    }
   ],
   "source": [
    "symbols"
   ]
  },
  {
   "cell_type": "code",
   "execution_count": 274,
   "metadata": {},
   "outputs": [],
   "source": [
    "import time  ## We will be running a loop that will take some time. \n",
    "#This package allows us to monitor the execution tiime of the loop "
   ]
  },
  {
   "cell_type": "code",
   "execution_count": 279,
   "metadata": {
    "scrolled": false
   },
   "outputs": [
    {
     "name": "stdout",
     "output_type": "stream",
     "text": [
      "JPM\n",
      "processing time 2.1546 seconds\n",
      "KO\n",
      "processing time 4.0728 seconds\n",
      "MCD\n",
      "processing time 6.0329 seconds\n",
      "MMM\n",
      "processing time 7.5147 seconds\n",
      "MRK\n",
      "processing time 9.1976 seconds\n",
      "MSFT\n",
      "processing time 11.0885 seconds\n",
      "NKE\n",
      "processing time 13.2458 seconds\n",
      "PG\n",
      "processing time 15.3174 seconds\n",
      "TRV\n",
      "processing time 17.4072 seconds\n",
      "UNH\n",
      "processing time 19.5300 seconds\n",
      "V\n",
      "processing time 22.1480 seconds\n",
      "VZ\n",
      "processing time 25.5063 seconds\n",
      "WBA\n"
     ]
    },
    {
     "ename": "KeyError",
     "evalue": "'trailingPE'",
     "output_type": "error",
     "traceback": [
      "\u001b[0;31m---------------------------------------------------------------------------\u001b[0m",
      "\u001b[0;31mKeyError\u001b[0m                                  Traceback (most recent call last)",
      "\u001b[0;32m<ipython-input-279-ff4fd8fac77d>\u001b[0m in \u001b[0;36m<module>\u001b[0;34m\u001b[0m\n\u001b[1;32m      8\u001b[0m     \u001b[0mmarketCap\u001b[0m \u001b[0;34m=\u001b[0m\u001b[0mdata\u001b[0m\u001b[0;34m.\u001b[0m\u001b[0minfo\u001b[0m\u001b[0;34m[\u001b[0m\u001b[0;34m'marketCap'\u001b[0m\u001b[0;34m]\u001b[0m\u001b[0;34m\u001b[0m\u001b[0;34m\u001b[0m\u001b[0m\n\u001b[1;32m      9\u001b[0m     \u001b[0mbeta\u001b[0m \u001b[0;34m=\u001b[0m \u001b[0mdata\u001b[0m\u001b[0;34m.\u001b[0m\u001b[0minfo\u001b[0m\u001b[0;34m[\u001b[0m\u001b[0;34m'beta'\u001b[0m\u001b[0;34m]\u001b[0m\u001b[0;34m\u001b[0m\u001b[0;34m\u001b[0m\u001b[0m\n\u001b[0;32m---> 10\u001b[0;31m     \u001b[0mtrailingPE\u001b[0m \u001b[0;34m=\u001b[0m \u001b[0mdata\u001b[0m\u001b[0;34m.\u001b[0m\u001b[0minfo\u001b[0m\u001b[0;34m[\u001b[0m\u001b[0;34m'trailingPE'\u001b[0m\u001b[0;34m]\u001b[0m\u001b[0;34m\u001b[0m\u001b[0;34m\u001b[0m\u001b[0m\n\u001b[0m\u001b[1;32m     11\u001b[0m     \u001b[0mpriceToBook\u001b[0m \u001b[0;34m=\u001b[0m\u001b[0mdata\u001b[0m\u001b[0;34m.\u001b[0m\u001b[0minfo\u001b[0m\u001b[0;34m[\u001b[0m\u001b[0;34m'priceToBook'\u001b[0m\u001b[0;34m]\u001b[0m\u001b[0;34m\u001b[0m\u001b[0;34m\u001b[0m\u001b[0m\n\u001b[1;32m     12\u001b[0m \u001b[0;34m\u001b[0m\u001b[0m\n",
      "\u001b[0;31mKeyError\u001b[0m: 'trailingPE'"
     ]
    }
   ],
   "source": [
    "start=time.perf_counter() #using time package to start counting execution time\n",
    "for symbol in symbols:\n",
    "    print(symbol)\n",
    "    data=yf.Ticker(symbol) # This step reduces the number of time we access symbol information from \n",
    "    #the internet. We make one access instead of 6 time in the following 6 comands\n",
    "    sector =data.info['sector']\n",
    "    industry = data.info['industry']\n",
    "    marketCap =data.info['marketCap']\n",
    "    beta = data.info['beta']\n",
    "    trailingPE = data.info['trailingPE']\n",
    "    priceToBook =data.info['priceToBook']\n",
    "        \n",
    "    all=all.append({'symbol':symbol,'sector':sector, 'industry':industry , 'marketCap':marketCap,\n",
    "                          'beta':beta , 'trailingPE':trailingPE  , 'priceToBook':priceToBook},\n",
    "                          ignore_index=True)\n",
    "    \n",
    "    end=time.perf_counter()\n",
    "    print(f'processing time {end-start:0.4f} seconds' ) # prints processing time as float.\n"
   ]
  },
  {
   "cell_type": "markdown",
   "metadata": {},
   "source": [
    "## Here we got an error for the symbol WBA because the its trailingPE is N/A"
   ]
  },
  {
   "cell_type": "markdown",
   "metadata": {},
   "source": [
    "## we use a try: statement and instruct python to to enter float('NaN) for trailingPE. This keeps the type of trailingPE as float."
   ]
  },
  {
   "cell_type": "code",
   "execution_count": 280,
   "metadata": {},
   "outputs": [],
   "source": [
    "all=pd.DataFrame(columns=['symbol', 'sector', 'industry', 'marketCap', 'beta','trailingPE','priceToBook'])"
   ]
  },
  {
   "cell_type": "code",
   "execution_count": 281,
   "metadata": {},
   "outputs": [
    {
     "name": "stdout",
     "output_type": "stream",
     "text": [
      "JPM\n",
      "processing time 4.1017 seconds\n",
      "KO\n",
      "processing time 13.6866 seconds\n",
      "MCD\n",
      "processing time 17.5215 seconds\n",
      "MMM\n",
      "processing time 22.0970 seconds\n",
      "MRK\n",
      "processing time 27.3773 seconds\n",
      "MSFT\n",
      "processing time 29.9302 seconds\n",
      "NKE\n",
      "processing time 35.7939 seconds\n",
      "PG\n",
      "processing time 42.5018 seconds\n",
      "TRV\n",
      "processing time 45.8197 seconds\n",
      "UNH\n",
      "processing time 49.1197 seconds\n",
      "V\n",
      "processing time 56.5178 seconds\n",
      "VZ\n",
      "processing time 59.9994 seconds\n",
      "WBA\n",
      "processing time 63.3455 seconds\n",
      "WMT\n",
      "processing time 67.6782 seconds\n"
     ]
    }
   ],
   "source": [
    "start=time.perf_counter() #using time package to start counting execution time\n",
    "for symbol in symbols:\n",
    "    print(symbol)\n",
    "    data=yf.Ticker(symbol) # This step reduces the number of time we access symbol information from \n",
    "    #the internet. We make one access instead of 6 time in the following 6 comands\n",
    "    sector =data.info['sector']\n",
    "    industry = data.info['industry']\n",
    "    marketCap =data.info['marketCap']\n",
    "    beta = data.info['beta']\n",
    "    try:\n",
    "        trailingPE = data.info['trailingPE']\n",
    "    except Exception:\n",
    "        trailingPE= float('NaN')\n",
    "                   \n",
    "    priceToBook =data.info['priceToBook']\n",
    "        \n",
    "    all=all.append({'symbol':symbol,'sector':sector, 'industry':industry , 'marketCap':marketCap,\n",
    "                          'beta':beta , 'trailingPE':trailingPE  , 'priceToBook':priceToBook},\n",
    "                          ignore_index=True)\n",
    "    \n",
    "    end=time.perf_counter()\n",
    "    print(f'processing time {end-start:0.4f} seconds' ) # prints processing time as float.\n"
   ]
  },
  {
   "cell_type": "code",
   "execution_count": 282,
   "metadata": {},
   "outputs": [
    {
     "data": {
      "text/html": [
       "<div>\n",
       "<style scoped>\n",
       "    .dataframe tbody tr th:only-of-type {\n",
       "        vertical-align: middle;\n",
       "    }\n",
       "\n",
       "    .dataframe tbody tr th {\n",
       "        vertical-align: top;\n",
       "    }\n",
       "\n",
       "    .dataframe thead th {\n",
       "        text-align: right;\n",
       "    }\n",
       "</style>\n",
       "<table border=\"1\" class=\"dataframe\">\n",
       "  <thead>\n",
       "    <tr style=\"text-align: right;\">\n",
       "      <th></th>\n",
       "      <th>symbol</th>\n",
       "      <th>sector</th>\n",
       "      <th>industry</th>\n",
       "      <th>marketCap</th>\n",
       "      <th>beta</th>\n",
       "      <th>trailingPE</th>\n",
       "      <th>priceToBook</th>\n",
       "    </tr>\n",
       "  </thead>\n",
       "  <tbody>\n",
       "    <tr>\n",
       "      <th>0</th>\n",
       "      <td>JPM</td>\n",
       "      <td>Financial Services</td>\n",
       "      <td>Banks—Diversified</td>\n",
       "      <td>458168991744</td>\n",
       "      <td>1.201516</td>\n",
       "      <td>16.908220</td>\n",
       "      <td>1.83664</td>\n",
       "    </tr>\n",
       "    <tr>\n",
       "      <th>1</th>\n",
       "      <td>KO</td>\n",
       "      <td>Consumer Defensive</td>\n",
       "      <td>Beverages—Non-Alcoholic</td>\n",
       "      <td>220765519872</td>\n",
       "      <td>0.624593</td>\n",
       "      <td>28.620056</td>\n",
       "      <td>11.42</td>\n",
       "    </tr>\n",
       "    <tr>\n",
       "      <th>2</th>\n",
       "      <td>MCD</td>\n",
       "      <td>Consumer Cyclical</td>\n",
       "      <td>Restaurants</td>\n",
       "      <td>168432173056</td>\n",
       "      <td>0.617009</td>\n",
       "      <td>35.801903</td>\n",
       "      <td>None</td>\n",
       "    </tr>\n",
       "    <tr>\n",
       "      <th>3</th>\n",
       "      <td>MMM</td>\n",
       "      <td>Industrials</td>\n",
       "      <td>Specialty Industrial Machinery</td>\n",
       "      <td>110359093248</td>\n",
       "      <td>0.947453</td>\n",
       "      <td>20.602163</td>\n",
       "      <td>8.55687</td>\n",
       "    </tr>\n",
       "    <tr>\n",
       "      <th>4</th>\n",
       "      <td>MRK</td>\n",
       "      <td>Healthcare</td>\n",
       "      <td>Drug Manufacturers—General</td>\n",
       "      <td>194126151680</td>\n",
       "      <td>0.432827</td>\n",
       "      <td>27.597122</td>\n",
       "      <td>7.6674</td>\n",
       "    </tr>\n",
       "    <tr>\n",
       "      <th>5</th>\n",
       "      <td>MSFT</td>\n",
       "      <td>Technology</td>\n",
       "      <td>Software—Infrastructure</td>\n",
       "      <td>1814980067328</td>\n",
       "      <td>0.812567</td>\n",
       "      <td>35.879337</td>\n",
       "      <td>13.943</td>\n",
       "    </tr>\n",
       "    <tr>\n",
       "      <th>6</th>\n",
       "      <td>NKE</td>\n",
       "      <td>Consumer Cyclical</td>\n",
       "      <td>Footwear &amp; Accessories</td>\n",
       "      <td>221228843008</td>\n",
       "      <td>0.860780</td>\n",
       "      <td>65.605420</td>\n",
       "      <td>18.5597</td>\n",
       "    </tr>\n",
       "    <tr>\n",
       "      <th>7</th>\n",
       "      <td>PG</td>\n",
       "      <td>Consumer Defensive</td>\n",
       "      <td>Household &amp; Personal Products</td>\n",
       "      <td>324480991232</td>\n",
       "      <td>0.406825</td>\n",
       "      <td>24.899850</td>\n",
       "      <td>6.86052</td>\n",
       "    </tr>\n",
       "    <tr>\n",
       "      <th>8</th>\n",
       "      <td>TRV</td>\n",
       "      <td>Financial Services</td>\n",
       "      <td>Insurance—Property &amp; Casualty</td>\n",
       "      <td>37330194432</td>\n",
       "      <td>0.782231</td>\n",
       "      <td>14.069390</td>\n",
       "      <td>1.27933</td>\n",
       "    </tr>\n",
       "    <tr>\n",
       "      <th>9</th>\n",
       "      <td>UNH</td>\n",
       "      <td>Healthcare</td>\n",
       "      <td>Healthcare Plans</td>\n",
       "      <td>349796368384</td>\n",
       "      <td>0.757313</td>\n",
       "      <td>23.083591</td>\n",
       "      <td>5.34501</td>\n",
       "    </tr>\n",
       "    <tr>\n",
       "      <th>10</th>\n",
       "      <td>V</td>\n",
       "      <td>Financial Services</td>\n",
       "      <td>Credit Services</td>\n",
       "      <td>461552287744</td>\n",
       "      <td>0.984832</td>\n",
       "      <td>43.215320</td>\n",
       "      <td>13.1624</td>\n",
       "    </tr>\n",
       "    <tr>\n",
       "      <th>11</th>\n",
       "      <td>VZ</td>\n",
       "      <td>Communication Services</td>\n",
       "      <td>Telecom Services</td>\n",
       "      <td>235522801664</td>\n",
       "      <td>0.472372</td>\n",
       "      <td>13.236046</td>\n",
       "      <td>3.4717</td>\n",
       "    </tr>\n",
       "    <tr>\n",
       "      <th>12</th>\n",
       "      <td>WBA</td>\n",
       "      <td>Healthcare</td>\n",
       "      <td>Pharmaceutical Retailers</td>\n",
       "      <td>44956102656</td>\n",
       "      <td>0.462621</td>\n",
       "      <td>NaN</td>\n",
       "      <td>2.24084</td>\n",
       "    </tr>\n",
       "    <tr>\n",
       "      <th>13</th>\n",
       "      <td>WMT</td>\n",
       "      <td>Consumer Defensive</td>\n",
       "      <td>Discount Stores</td>\n",
       "      <td>374585819136</td>\n",
       "      <td>0.471289</td>\n",
       "      <td>27.993685</td>\n",
       "      <td>4.6352</td>\n",
       "    </tr>\n",
       "  </tbody>\n",
       "</table>\n",
       "</div>"
      ],
      "text/plain": [
       "   symbol                  sector                        industry  \\\n",
       "0     JPM      Financial Services               Banks—Diversified   \n",
       "1      KO      Consumer Defensive         Beverages—Non-Alcoholic   \n",
       "2     MCD       Consumer Cyclical                     Restaurants   \n",
       "3     MMM             Industrials  Specialty Industrial Machinery   \n",
       "4     MRK              Healthcare      Drug Manufacturers—General   \n",
       "5    MSFT              Technology         Software—Infrastructure   \n",
       "6     NKE       Consumer Cyclical          Footwear & Accessories   \n",
       "7      PG      Consumer Defensive   Household & Personal Products   \n",
       "8     TRV      Financial Services   Insurance—Property & Casualty   \n",
       "9     UNH              Healthcare                Healthcare Plans   \n",
       "10      V      Financial Services                 Credit Services   \n",
       "11     VZ  Communication Services                Telecom Services   \n",
       "12    WBA              Healthcare        Pharmaceutical Retailers   \n",
       "13    WMT      Consumer Defensive                 Discount Stores   \n",
       "\n",
       "        marketCap      beta  trailingPE priceToBook  \n",
       "0    458168991744  1.201516   16.908220     1.83664  \n",
       "1    220765519872  0.624593   28.620056       11.42  \n",
       "2    168432173056  0.617009   35.801903        None  \n",
       "3    110359093248  0.947453   20.602163     8.55687  \n",
       "4    194126151680  0.432827   27.597122      7.6674  \n",
       "5   1814980067328  0.812567   35.879337      13.943  \n",
       "6    221228843008  0.860780   65.605420     18.5597  \n",
       "7    324480991232  0.406825   24.899850     6.86052  \n",
       "8     37330194432  0.782231   14.069390     1.27933  \n",
       "9    349796368384  0.757313   23.083591     5.34501  \n",
       "10   461552287744  0.984832   43.215320     13.1624  \n",
       "11   235522801664  0.472372   13.236046      3.4717  \n",
       "12    44956102656  0.462621         NaN     2.24084  \n",
       "13   374585819136  0.471289   27.993685      4.6352  "
      ]
     },
     "execution_count": 282,
     "metadata": {},
     "output_type": "execute_result"
    }
   ],
   "source": [
    "all"
   ]
  },
  {
   "cell_type": "markdown",
   "metadata": {},
   "source": [
    "## the  following converts this Jupyter notebook to html file. It is easier to open n any application and work with in different virtual environments"
   ]
  },
  {
   "cell_type": "code",
   "execution_count": 283,
   "metadata": {},
   "outputs": [
    {
     "data": {
      "text/plain": [
       "0"
      ]
     },
     "execution_count": 283,
     "metadata": {},
     "output_type": "execute_result"
    }
   ],
   "source": [
    "os.system('jupyter nbconvert --to html week-6.ipynb')"
   ]
  },
  {
   "cell_type": "code",
   "execution_count": null,
   "metadata": {},
   "outputs": [],
   "source": []
  }
 ],
 "metadata": {
  "kernelspec": {
   "display_name": "Python 3",
   "language": "python",
   "name": "python3"
  },
  "language_info": {
   "codemirror_mode": {
    "name": "ipython",
    "version": 3
   },
   "file_extension": ".py",
   "mimetype": "text/x-python",
   "name": "python",
   "nbconvert_exporter": "python",
   "pygments_lexer": "ipython3",
   "version": "3.8.3"
  }
 },
 "nbformat": 4,
 "nbformat_minor": 4
}
